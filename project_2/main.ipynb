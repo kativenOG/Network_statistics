{
 "cells": [
  {
   "cell_type": "markdown",
   "metadata": {},
   "source": [
    "\n",
    "### Link prediction: how to execute and evaluate methods on a real-world dataset?\n",
    "#### Objectives: \n",
    "We should address the following points:\n",
    "\n",
    "- What specific method(s) did you use from the class of methods you have investigated to find ***missing/spurious links***?\n",
    "- Why did you ***choose*** this specific method?\n",
    "- Which links were ***missing according to your method***?\n",
    "- Does it ***seem logical*** that these links were missing, or does it seems like an artifact of the method used?\n",
    "- How can you be sure that what you found ***is the truth***?\n",
    "- How well did your method ***perform***?\n",
    "\n",
    "#### Dataset: \n",
    "We are going to study the Jazz musicians dataset, some stat about the dataset:\n",
    "\n",
    "- Number of nodes: 198 \n",
    "- Edge Volume: 2742 \n",
    "- Max Degree: 100\n",
    "- Average Degree: 27.7\n",
    "- Median Node Pair Distance: 2\n",
    "- Mean Node Pair Distance: 2.2"
   ]
  },
  {
   "cell_type": "code",
   "execution_count": 2,
   "metadata": {},
   "outputs": [
    {
     "name": "stdout",
     "output_type": "stream",
     "text": [
      "Number of folds: 10\n",
      "(548, 2)\n",
      "(548, 2)\n",
      "(548, 2)\n",
      "(548, 2)\n",
      "(548, 2)\n",
      "(548, 2)\n",
      "(548, 2)\n",
      "(548, 2)\n",
      "(548, 2)\n",
      "(548, 2)\n"
     ]
    }
   ],
   "source": [
    "from lib.utils import jazz_generator\n",
    "\n",
    "k = 10 \n",
    "k_folds = jazz_generator(k=k)\n",
    "print(f\"Number of folds: {len(k_folds)}\")\n",
    "for fold in k_folds: print(fold.shape)"
   ]
  },
  {
   "cell_type": "markdown",
   "metadata": {},
   "source": [
    "### Similarity Indices:\n",
    "#### Local Similarity Indices:\n",
    "The implemented indexes and their relative function are:\n",
    "\n",
    "\n",
    "- Common Neighbours:        ***cn_score()***\n",
    "- Leight Holme Newman:      ***leight_holme_newman()***\n",
    "- Preferential Attachment:  ***preferential_attachment_wrapper()***\n",
    "- Jaccard:                  ***jaccard_wrapper()***\n",
    "- Adamic Adar:              ***adamic_adar_wrapper()***\n",
    "- Resource Allocation:      ***resource_allocation_wrapper()***\n",
    "\n"
   ]
  },
  {
   "cell_type": "code",
   "execution_count": 3,
   "metadata": {},
   "outputs": [],
   "source": [
    "from lib.utils import train_probe_split, from_el_to_nx\n",
    "from lib.utils import accuracy_metric, auc_metric\n",
    "from lib.local_similarity import cn_score\n",
    "\n",
    "def execute(similarity_fun):\n",
    "    accuracy,auc = [], []\n",
    "    for index in range(len(k_folds)): \n",
    "        # Get the Train and Probe split for this fold  \n",
    "        train_edge_list,probe_edge_list= train_probe_split(k_folds,index)\n",
    "\n",
    "        # Trainsform the train edge list to a networkx Graph  \n",
    "        train_G, _ = from_el_to_nx(train_edge_list)\n",
    "\n",
    "        # Get the similarity scores for the train Graph \n",
    "        scores = similarity_fun(train_G)  \n",
    "\n",
    "        accuracy.append(accuracy_metric(scores,probe_edge_list))\n",
    "        auc.append(auc_metric(scores,train_edge_list,probe_edge_list))\n",
    "    \n",
    "    mean_accuracy, mean_auc = sum(accuracy)/k ,sum(auc)/k \n",
    "    return mean_accuracy, mean_auc\n",
    "\n",
    "mean_accuracy, mean_auc = execute(cn_score)"
   ]
  },
  {
   "cell_type": "code",
   "execution_count": 5,
   "metadata": {},
   "outputs": [
    {
     "name": "stdout",
     "output_type": "stream",
     "text": [
      "0.07518248175182482 0.28450000000000003\n"
     ]
    }
   ],
   "source": [
    "print(mean_accuracy,mean_auc)"
   ]
  },
  {
   "cell_type": "code",
   "execution_count": 31,
   "metadata": {},
   "outputs": [
    {
     "ename": "ValueError",
     "evalue": "Received invalid argument(s): size",
     "output_type": "error",
     "traceback": [
      "\u001b[1;31m---------------------------------------------------------------------------\u001b[0m",
      "\u001b[1;31mValueError\u001b[0m                                Traceback (most recent call last)",
      "\u001b[1;32mc:\\Users\\20182667\\Documents\\Studie\\Vakken\\Master\\Network Statistics\\Network_statistics\\project_2\\main.ipynb Cell 6\u001b[0m line \u001b[0;36m1\n\u001b[0;32m      <a href='vscode-notebook-cell:/c%3A/Users/20182667/Documents/Studie/Vakken/Master/Network%20Statistics/Network_statistics/project_2/main.ipynb#W5sZmlsZQ%3D%3D?line=5'>6</a>\u001b[0m degree_array\u001b[39m.\u001b[39msort(key\u001b[39m=\u001b[39m\u001b[39mlambda\u001b[39;00m x: x[\u001b[39m0\u001b[39m])\n\u001b[0;32m      <a href='vscode-notebook-cell:/c%3A/Users/20182667/Documents/Studie/Vakken/Master/Network%20Statistics/Network_statistics/project_2/main.ipynb#W5sZmlsZQ%3D%3D?line=6'>7</a>\u001b[0m degree_array \u001b[39m=\u001b[39m [k[\u001b[39m1\u001b[39m] \u001b[39mfor\u001b[39;00m k \u001b[39min\u001b[39;00m degree_array]\n\u001b[1;32m---> <a href='vscode-notebook-cell:/c%3A/Users/20182667/Documents/Studie/Vakken/Master/Network%20Statistics/Network_statistics/project_2/main.ipynb#W5sZmlsZQ%3D%3D?line=9'>10</a>\u001b[0m nx\u001b[39m.\u001b[39;49mdraw_networkx(G, edge_color\u001b[39m=\u001b[39;49m(\u001b[39m0\u001b[39;49m,\u001b[39m0\u001b[39;49m,\u001b[39m0\u001b[39;49m,\u001b[39m0.1\u001b[39;49m), node_size\u001b[39m=\u001b[39;49mdegree_array, with_labels\u001b[39m=\u001b[39;49m\u001b[39mFalse\u001b[39;49;00m, size\u001b[39m=\u001b[39;49m(\u001b[39m50\u001b[39;49m,\u001b[39m50\u001b[39;49m))\n",
      "File \u001b[1;32mc:\\Users\\20182667\\Documents\\Studie\\Vakken\\Master\\Network Statistics\\Network_statistics\\networkStats\\lib\\site-packages\\networkx\\drawing\\nx_pylab.py:294\u001b[0m, in \u001b[0;36mdraw_networkx\u001b[1;34m(G, pos, arrows, with_labels, **kwds)\u001b[0m\n\u001b[0;32m    292\u001b[0m \u001b[39mif\u001b[39;00m \u001b[39many\u001b[39m(k \u001b[39mnot\u001b[39;00m \u001b[39min\u001b[39;00m valid_kwds \u001b[39mfor\u001b[39;00m k \u001b[39min\u001b[39;00m kwds):\n\u001b[0;32m    293\u001b[0m     invalid_args \u001b[39m=\u001b[39m \u001b[39m\"\u001b[39m\u001b[39m, \u001b[39m\u001b[39m\"\u001b[39m\u001b[39m.\u001b[39mjoin([k \u001b[39mfor\u001b[39;00m k \u001b[39min\u001b[39;00m kwds \u001b[39mif\u001b[39;00m k \u001b[39mnot\u001b[39;00m \u001b[39min\u001b[39;00m valid_kwds])\n\u001b[1;32m--> 294\u001b[0m     \u001b[39mraise\u001b[39;00m \u001b[39mValueError\u001b[39;00m(\u001b[39mf\u001b[39m\u001b[39m\"\u001b[39m\u001b[39mReceived invalid argument(s): \u001b[39m\u001b[39m{\u001b[39;00minvalid_args\u001b[39m}\u001b[39;00m\u001b[39m\"\u001b[39m)\n\u001b[0;32m    296\u001b[0m node_kwds \u001b[39m=\u001b[39m {k: v \u001b[39mfor\u001b[39;00m k, v \u001b[39min\u001b[39;00m kwds\u001b[39m.\u001b[39mitems() \u001b[39mif\u001b[39;00m k \u001b[39min\u001b[39;00m valid_node_kwds}\n\u001b[0;32m    297\u001b[0m edge_kwds \u001b[39m=\u001b[39m {k: v \u001b[39mfor\u001b[39;00m k, v \u001b[39min\u001b[39;00m kwds\u001b[39m.\u001b[39mitems() \u001b[39mif\u001b[39;00m k \u001b[39min\u001b[39;00m valid_edge_kwds}\n",
      "\u001b[1;31mValueError\u001b[0m: Received invalid argument(s): size"
     ]
    }
   ],
   "source": [
    "import networkx as nx\n",
    "import numpy as np\n",
    "edge_list = np.vstack(k_folds)\n",
    "G = nx.from_edgelist(edge_list)\n",
    "degree_array = list(G.degree)\n",
    "degree_array.sort(key=lambda x: x[0])\n",
    "degree_array = [k[1] for k in degree_array]\n",
    "\n",
    "\n",
    "nx.draw_networkx(G, edge_color=(0,0,0,0.1), node_size=degree_array, with_labels=False)\n"
   ]
  }
 ],
 "metadata": {
  "kernelspec": {
   "display_name": "networkStats",
   "language": "python",
   "name": "python3"
  },
  "language_info": {
   "codemirror_mode": {
    "name": "ipython",
    "version": 3
   },
   "file_extension": ".py",
   "mimetype": "text/x-python",
   "name": "python",
   "nbconvert_exporter": "python",
   "pygments_lexer": "ipython3",
   "version": "3.10.2"
  }
 },
 "nbformat": 4,
 "nbformat_minor": 2
}
