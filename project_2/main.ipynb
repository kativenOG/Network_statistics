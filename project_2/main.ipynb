{
 "cells": [
  {
   "cell_type": "markdown",
   "metadata": {},
   "source": [
    "\n",
    "### Link prediction: how to execute and evaluate methods on a real-world dataset?\n",
    "#### Objectives: \n",
    "We should address the following points:\n",
    "\n",
    "- What specific method(s) did you use from the class of methods you have investigated to find ***missing/spurious links***?\n",
    "- Why did you ***choose*** this specific method?\n",
    "- Which links were ***missing according to your method***?\n",
    "- Does it ***seem logical*** that these links were missing, or does it seems like an artifact of the method used?\n",
    "- How can you be sure that what you found ***is the truth***?\n",
    "- How well did your method ***perform***?\n",
    "\n",
    "#### Dataset: \n",
    "We are going to study the Jazz musicians dataset, some stat about the dataset:\n",
    "\n",
    "- Number of nodes: 198 \n",
    "- Edge Volume: 2742 \n",
    "- Max Degree: 100\n",
    "- Average Degree: 27.7\n",
    "- Median Node Pair Distance: 2\n",
    "- Mean Node Pair Distance: 2.2"
   ]
  },
  {
   "cell_type": "code",
   "execution_count": 1,
   "metadata": {},
   "outputs": [
    {
     "name": "stdout",
     "output_type": "stream",
     "text": [
      "Number of folds: 10\n",
      "(548, 2)\n",
      "(548, 2)\n",
      "(548, 2)\n",
      "(548, 2)\n",
      "(548, 2)\n",
      "(548, 2)\n",
      "(548, 2)\n",
      "(548, 2)\n",
      "(548, 2)\n",
      "(548, 2)\n"
     ]
    }
   ],
   "source": [
    "from lib.utils import jazz_generator\n",
    "\n",
    "k = 10 \n",
    "k_folds = jazz_generator(k=k)\n",
    "print(f\"Number of folds: {len(k_folds)}\")\n",
    "for fold in k_folds: print(fold.shape)"
   ]
  },
  {
   "cell_type": "markdown",
   "metadata": {},
   "source": [
    "### Similarity Indices:\n",
    "#### Local Similarity Indices:\n",
    "The implemented indexes and their relative function are:\n",
    "\n",
    "\n",
    "- Common Neighbours:        ***cn_score()***\n",
    "- Leight Holme Newman:      ***leight_holme_newman()***\n",
    "- Preferential Attachment:  ***preferential_attachment_wrapper()***\n",
    "- Jaccard:                  ***jaccard_wrapper()***\n",
    "- Adamic Adar:              ***adamic_adar_wrapper()***\n",
    "- Resource Allocation:      ***resource_allocation_wrapper()***\n",
    "\n"
   ]
  },
  {
   "cell_type": "code",
   "execution_count": 2,
   "metadata": {},
   "outputs": [],
   "source": [
    "from lib.utils import train_probe_split, from_el_to_nx\n",
    "from lib.utils import accuracy_metric, auc_metric\n",
    "from lib.local_similarity import cn_score\n",
    "\n",
    "def execute(similarity_fun):\n",
    "    accuracy,auc = [], []\n",
    "    for index in range(len(k_folds)): \n",
    "        # Get the Train and Probe split for this fold  \n",
    "        train_edge_list,probe_edge_list= train_probe_split(k_folds,index)\n",
    "\n",
    "        # Trainsform the train edge list to a networkx Graph  \n",
    "        train_G, _ = from_el_to_nx(train_edge_list)\n",
    "\n",
    "        # Get the similarity scores for the train Graph \n",
    "        scores = similarity_fun(train_G)  \n",
    "\n",
    "        accuracy.append(accuracy_metric(scores,probe_edge_list))\n",
    "        auc.append(auc_metric(scores,train_edge_list,probe_edge_list))\n",
    "    \n",
    "    mean_accuracy, mean_auc = sum(accuracy)/k ,sum(auc)/k \n",
    "    return mean_accuracy, mean_auc\n",
    "\n",
    "mean_accuracy, mean_auc = execute(cn_score)"
   ]
  },
  {
   "cell_type": "code",
   "execution_count": 3,
   "metadata": {},
   "outputs": [
    {
     "name": "stdout",
     "output_type": "stream",
     "text": [
      "0.07664233576642335 0.26999999999999996\n"
     ]
    }
   ],
   "source": [
    "print(mean_accuracy,mean_auc)"
   ]
  }
 ],
 "metadata": {
  "kernelspec": {
   "display_name": "networkStats",
   "language": "python",
   "name": "python3"
  },
  "language_info": {
   "codemirror_mode": {
    "name": "ipython",
    "version": 3
   },
   "file_extension": ".py",
   "mimetype": "text/x-python",
   "name": "python",
   "nbconvert_exporter": "python",
   "pygments_lexer": "ipython3",
   "version": "3.10.2"
  }
 },
 "nbformat": 4,
 "nbformat_minor": 2
}
