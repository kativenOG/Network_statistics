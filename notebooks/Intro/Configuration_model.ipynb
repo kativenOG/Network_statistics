{
 "cells": [
  {
   "cell_type": "markdown",
   "id": "2d85e81b",
   "metadata": {},
   "source": [
    "# Configuration Model"
   ]
  },
  {
   "cell_type": "markdown",
   "id": "4c24d421",
   "metadata": {},
   "source": [
    "The Configuration Model is a random graph model that was originally designed to sample a graph uniformly over all graphs with a given sequence of degrees. \n",
    "\n",
    "The paramater of the model is a sequence of integers $\\vec{k} = \\{k_1, k_2, \\dots, k_n\\}$ where the sum of the entries is even. From this a graph $G = (V,E)$ with $V = \\{1,2, \\dots, n\\}$ is constructed as follows:\n",
    "\n",
    "1 Each node $i$ is assigned $k_i$ stubs (half-edges) <br>\n",
    "2 While there are stubs left do the following: <br>\n",
    "&emsp; 2a) Select two stubs $s_1$, $s_2$ uniformly at random from all still available stubs (without replacement) and \n",
    "     let $i_1, i_2$ be the nodes to which the stubs belong<br>\n",
    "&emsp; 2b) Add the edge $(i_1, i_2)$ to the graph <br>\n",
    "&emsp; 2c) Remove the selected stubs from the list of avaialable stubs <br>\n",
    "\n",
    "The output is a graph where node $i$ has degree equal to $k_i$. However, please note that this graph might not be simple as a node can get connected to itself, creating self-loops, and multiple edges can be places between the same pair of nodes. However, if we condition on the resulting graph being simple, then it can be shown that this procedure indeed samples uniformly at random from all simple graph with degrees given by the sequence $\\vec{k}$."
   ]
  },
  {
   "cell_type": "markdown",
   "id": "0fec6312",
   "metadata": {},
   "source": [
    "**Exercise 1** Implement the Configuration Model as a function ``CM(K)`` where `K` is an array of integers with even sum. Make sure it outputs the vertex list $V$ and the edge list $E$. Test the resulting code on the degree sequence `K=[2,2,2,2,3,3,3,3,4,4,5,5]`."
   ]
  },
  {
   "cell_type": "code",
   "execution_count": 1,
   "id": "f2b63f73",
   "metadata": {},
   "outputs": [],
   "source": [
    "import numpy as np\n",
    "from collections import Counter"
   ]
  },
  {
   "cell_type": "code",
   "execution_count": 2,
   "id": "9f106793",
   "metadata": {},
   "outputs": [],
   "source": [
    "def RCM(K): # Repeated Configuration Model \n",
    "    assert sum(K)%2==0\n",
    "    V,E = [],set()\n",
    "    V = [v for v in range(1,len(K)+1)]\n",
    "    counter = Counter()\n",
    "    for i,k in enumerate(K): counter[i]= k \n",
    "    print(counter)\n",
    "    total = sum(counter.values())\n",
    "    available_keys = [key for key,value in counter.items() if value!=0 ]\n",
    "    while total >= 2:\n",
    "        probabilites = [value/total for value in counter.values() if value!=0 ] \n",
    "        while True:\n",
    "            edge = tuple(np.random.choice(available_keys,2,probabilites))\n",
    "            if edge[0] != edge[1]: break \n",
    "        mirror = tuple([edge[1],edge[0]])\n",
    "        if (edge not in E) and (mirror not in E): \n",
    "            E.add(edge) \n",
    "            counter[edge[0]]-=1\n",
    "            counter[edge[1]]-=1\n",
    "            total = sum(counter.values())\n",
    "        \n",
    "    return V, list(E)\n",
    "\n",
    "def ECM(K): # Erased Configuration model\n",
    "    assert sum(K)%2==0\n",
    "    V,E = [],[]\n",
    "    V = [v for v in range(1,len(K)+1)]\n",
    "    counter = Counter()\n",
    "    for i,k in enumerate(K): counter[i]= k \n",
    "    print(counter)\n",
    "    total = sum(counter.values())\n",
    "    available_keys = [key for key,value in counter.items() if value!=0 ]\n",
    "    while total >= 2:\n",
    "        probabilites = [value/total for value in counter.values() if value!=0 ] \n",
    "        while True:\n",
    "            edge = tuple(np.random.choice(available_keys,2,probabilites))\n",
    "            if edge[0] != edge[1]: break \n",
    "        E.append(edge) \n",
    "        counter[edge[0]]-=1\n",
    "        counter[edge[1]]-=1\n",
    "        total = sum(counter.values())\n",
    "\n",
    "    list(set(E)) \n",
    "    E_no_dupes = [] \n",
    "    for e in E: \n",
    "        e = list(e)\n",
    "        if (e not in E_no_dupes) and (e[::-1] not in E_no_dupes): E_no_dupes.append(e) \n",
    "    return V, E_no_dupes\n"
   ]
  },
  {
   "cell_type": "code",
   "execution_count": 3,
   "id": "738118fd",
   "metadata": {},
   "outputs": [
    {
     "name": "stdout",
     "output_type": "stream",
     "text": [
      "RCM:\n",
      "Counter({10: 5, 11: 5, 8: 4, 9: 4, 4: 3, 5: 3, 6: 3, 7: 3, 0: 2, 1: 2, 2: 2, 3: 2})\n",
      "Check on number of Edges: True\n",
      "The graph has 12 nodes\n",
      "The edges of the graph are:\n",
      " [(9, 5), (0, 2), (0, 5), (10, 3), (1, 6), (4, 2), (3, 0), (3, 9), (4, 8), (9, 4), (9, 10), (0, 4), (10, 8), (3, 2), (4, 7), (5, 11), (5, 8), (0, 6), (2, 6)]\n",
      "\n",
      "ECM:\n",
      "Counter({10: 5, 11: 5, 8: 4, 9: 4, 4: 3, 5: 3, 6: 3, 7: 3, 0: 2, 1: 2, 2: 2, 3: 2})\n",
      "Check on number of Edges: False (we got rid of dupes)\n",
      "The graph has 12 nodes\n",
      "The edges of the graph are:\n",
      " [[0, 1], [10, 9], [8, 4], [7, 1], [3, 1], [5, 3], [10, 8], [4, 1], [8, 7], [1, 5], [3, 6], [9, 7], [2, 10], [10, 11], [9, 4]]\n"
     ]
    }
   ],
   "source": [
    "### Test your code\n",
    "K = [2,2,2,2,3,3,3,3,4,4,5,5]\n",
    "print(\"RCM:\")\n",
    "(V,E) = RCM(K)\n",
    "true_edge_count = int(sum(K)/2)\n",
    "print(f\"Check on number of Edges: {true_edge_count == len(E)}\")\n",
    "print(f\"The graph has {len(V)} nodes\")\n",
    "print(f\"The edges of the graph are:\\n {E}\")\n",
    "\n",
    "print(\"\\nECM:\")\n",
    "(V,E) = ECM(K)\n",
    "true_edge_count = int(sum(K)/2)\n",
    "print(f\"Check on number of Edges: {true_edge_count == len(E)} (we got rid of dupes)\")\n",
    "print(f\"The graph has {len(V)} nodes\")\n",
    "print(f\"The edges of the graph are:\\n {E}\")"
   ]
  },
  {
   "cell_type": "markdown",
   "id": "51336244",
   "metadata": {},
   "source": [
    "## Configuration model in NetworkX"
   ]
  },
  {
   "cell_type": "markdown",
   "id": "f92e1a30",
   "metadata": {},
   "source": [
    "Depending on how you implemented the algorithm it might take very long to generate a large graph. Luckily the NetworkX library has us covered with the `configuration_model` function. Below is an example on the same degree sequence as for the test above.\n",
    "\n",
    "**Note:** The general output of the `configuration_model` function is a `MultiGraph`. Here each edge is a tripple `(i,j,k)` where `i` and `j` are the node labels and `k` is the index for multiplicity. For example, if the edge $(1,2)$ is present twice, the list of edges will contain `(1,2,0)` and `(1,2,1)`."
   ]
  },
  {
   "cell_type": "code",
   "execution_count": 4,
   "id": "844955f7",
   "metadata": {},
   "outputs": [],
   "source": [
    "import networkx as nx"
   ]
  },
  {
   "cell_type": "code",
   "execution_count": 5,
   "id": "871c6d37",
   "metadata": {},
   "outputs": [
    {
     "name": "stdout",
     "output_type": "stream",
     "text": [
      "The graph has 12 nodes\n",
      "The edges of the graph are:\n",
      " [(0, 3, 0), (0, 11, 0), (1, 9, 0), (1, 6, 0), (2, 5, 0), (2, 3, 0), (4, 5, 0), (4, 7, 0), (4, 11, 0), (5, 10, 0), (6, 11, 0), (6, 9, 0), (7, 8, 0), (7, 8, 1), (8, 10, 0), (8, 9, 0), (9, 10, 0), (10, 11, 0), (10, 11, 1)]\n"
     ]
    }
   ],
   "source": [
    "cm_graph = nx.configuration_model(K)\n",
    "\n",
    "print(f\"The graph has {nx.number_of_nodes(cm_graph)} nodes\")\n",
    "print(f\"The edges of the graph are:\\n {list(cm_graph.edges)}\")"
   ]
  },
  {
   "cell_type": "markdown",
   "id": "c558956b",
   "metadata": {},
   "source": [
    "## Getting a simple graph"
   ]
  },
  {
   "cell_type": "markdown",
   "id": "772a478e",
   "metadata": {},
   "source": [
    "The fact that the Configuration Model can give a multigraph is a bit problematic. There are two ways to deal with this:\n",
    "\n",
    "&emsp; 1) repeat the algorithm until the result is a simple graph <br>\n",
    "&emsp; 2) remove all self-loops and replace each multi-edge by a single edge <br>\n",
    "\n",
    "The first option is often referred to as the Repeated Configuration Model (RCM) while the second one is known as the Erased Configuration Model (ECM). Please note that it could be that the degree sequence is such that there does not exist any simple graph with that sequece. Therefore, the RCM could run indefinitely (or in most case very long) before outputting a result. On the other hand, the ECM will always give a simple graph, but the degree sequence will not be the same as the one used as input for the model."
   ]
  },
  {
   "cell_type": "markdown",
   "id": "cbf14dce",
   "metadata": {},
   "source": [
    "We can implement the ECM using NetworkX functions. First we can cast the `MultiGraph` to a simple `Graph`. This will take care of the multi-edges. Next we use `selfloop_edges` to get the self-loops in the graph and then remove them using `remove_edges_from`. The code is given below."
   ]
  },
  {
   "cell_type": "code",
   "execution_count": 6,
   "id": "0fc6e6d7",
   "metadata": {},
   "outputs": [],
   "source": [
    "def ECM(K):\n",
    "    cm_multi_graph = nx.configuration_model(K)\n",
    "    # Cast the multiGraph to a simple nx graph\n",
    "    cm_graph = nx.Graph(cm_multi_graph) \n",
    "    cm_graph.remove_edges_from(nx.selfloop_edges(cm_graph))\n",
    "    \n",
    "    return cm_graph"
   ]
  },
  {
   "cell_type": "code",
   "execution_count": 7,
   "id": "a8de2c21",
   "metadata": {},
   "outputs": [
    {
     "name": "stdout",
     "output_type": "stream",
     "text": [
      "The graph has 12 nodes\n",
      "The edges of the graph are:\n",
      " [(0, 9), (0, 10), (1, 4), (1, 10), (2, 6), (2, 5), (3, 11), (3, 10), (4, 8), (5, 11), (5, 6), (6, 8), (7, 8), (7, 11), (7, 10), (9, 11), (10, 11)]\n",
      "The degree sequence is the same: False\n",
      "The degree sequence is [2, 2, 2, 2, 2, 3, 3, 3, 3, 2, 5, 5]\n"
     ]
    }
   ],
   "source": [
    "### Test the code\n",
    "\n",
    "ecm_graph = ECM(K)\n",
    "\n",
    "degree_sequence = [d for v,d in ecm_graph.degree()]\n",
    "\n",
    "print(f\"The graph has {nx.number_of_nodes(ecm_graph)} nodes\")\n",
    "print(f\"The edges of the graph are:\\n {list(ecm_graph.edges)}\")\n",
    "print(f\"The degree sequence is the same: {K == degree_sequence}\")\n",
    "print(f\"The degree sequence is {degree_sequence}\")\n"
   ]
  },
  {
   "cell_type": "markdown",
   "id": "a1599cf8",
   "metadata": {},
   "source": [
    "## Generating graphs with a given degree distribution"
   ]
  },
  {
   "cell_type": "markdown",
   "id": "b7ad0b5f",
   "metadata": {},
   "source": [
    "**Exercise 2** Let $F$ be the Poisson distribution with mean $\\lambda = 3$. Generate simple random graphs using the procedure described above for $n = 1000 \\cdot 2^k$ with $k \\in \\{0,1,2,3,4\\}$. Plot for each $k$ the resulting cdf $F_n$ as well as the limit cdf $F$ of the Poisson distribution in a the same figure. How large should your graph be for the empirical distribution to be close to the given limit?  (CDF=comulative Distributive Function)\n",
    "\n",
    "**Note:** For sampling from the Poisson distribution you could use the `Poisson` object from the `scipy.stats` library by adding `from scipy.stats import poisson`. You can also use other functions, such as `cumfreq` to compute the empirical cdfs. See https://docs.scipy.org/doc/scipy/reference/stats.html for more info."
   ]
  },
  {
   "cell_type": "markdown",
   "id": "d63647b8",
   "metadata": {},
   "source": [
    "While the Configuration Model is designed to generate graphs with a given degree sequence, it can also be used to generate graphs such that the empirical degree distribution converges to a given limit distribution. \n",
    "\n",
    "Suppose we are given a distribution $F$ on the integers. Then the procedure to create a simple graph of size $n$ is as follows:\n",
    "\n",
    "&emsp; 1) Sample $n$ values $\\{k_1, \\dots, k_n\\}$ from $F$ <br>\n",
    "&emsp; 2) Check is the sum $\\sum_{i = 1}^n D_i$ is even <br>\n",
    "&emsp; 3) If not set $k_n = k_n +1$ <br>\n",
    "&emsp; 4) Create a simple graph using ECM with input $\\vec{k} = \\{k_1, \\dots, k_n\\}$ <br>\n",
    "\n",
    "It now follows from an application of the law of large number (and some additional analysis) that for every $k$: <br/> \n",
    "$F_n(k) := \\frac{1}{n} \\sum_{i =1}^n 1[d_i \\le k] \\stackrel{\\mathbb{P}}{\\rightarrow} F(k)$ (Empirical Degree Distribution, it's already a cdf)\n",
    "\n",
    "**Note:** If we would have used the CM then the above result would be a direct consequence of the LLN, since (apart from the possibly added 1) each value is an iid sample from $F$. It remains true for ECM because it can be shown that the number of self-loops and excess edges scales less then $n$ and hence does not matter asymptotically."
   ]
  },
  {
   "cell_type": "code",
   "execution_count": null,
   "id": "478d6bc1",
   "metadata": {},
   "outputs": [],
   "source": []
  },
  {
   "cell_type": "code",
   "execution_count": 8,
   "id": "fbb35c44",
   "metadata": {},
   "outputs": [
    {
     "name": "stdout",
     "output_type": "stream",
     "text": [
      "1000\n"
     ]
    },
    {
     "data": {
      "image/png": "[encoded data removed]",
      "text/plain": [
       "<Figure size 640x480 with 1 Axes>"
      ]
     },
     "metadata": {},
     "output_type": "display_data"
    },
    {
     "name": "stdout",
     "output_type": "stream",
     "text": [
      "2000\n"
     ]
    },
    {
     "data": {
      "image/png": "[encoded data removed]",
      "text/plain": [
       "<Figure size 640x480 with 1 Axes>"
      ]
     },
     "metadata": {},
     "output_type": "display_data"
    },
    {
     "name": "stdout",
     "output_type": "stream",
     "text": [
      "4000\n"
     ]
    },
    {
     "data": {
      "image/png": "[encoded data removed]",
      "text/plain": [
       "<Figure size 640x480 with 1 Axes>"
      ]
     },
     "metadata": {},
     "output_type": "display_data"
    },
    {
     "name": "stdout",
     "output_type": "stream",
     "text": [
      "8000\n"
     ]
    },
    {
     "data": {
      "image/png": "[encoded data removed]",
      "text/plain": [
       "<Figure size 640x480 with 1 Axes>"
      ]
     },
     "metadata": {},
     "output_type": "display_data"
    },
    {
     "name": "stdout",
     "output_type": "stream",
     "text": [
      "16000\n"
     ]
    },
    {
     "data": {
      "image/png": "[encoded data removed]",
      "text/plain": [
       "<Figure size 640x480 with 1 Axes>"
      ]
     },
     "metadata": {},
     "output_type": "display_data"
    }
   ],
   "source": [
    "import networkx as nx \n",
    "from scipy.stats import poisson\n",
    "\n",
    "import matplotlib.pyplot as plt\n",
    "### Solution\n",
    "# Our cdf should converge to the poisson cdf the more k increases \n",
    "mu = 3\n",
    "K = [0,1,2,3,4]\n",
    "N = lambda k: 1000*pow(2,k)\n",
    "\n",
    "def cumulative_distribution_function(G,k):\n",
    "    # also called Empirical degree distribution, or CDF for graphs ! \n",
    "    n = len(G.nodes())\n",
    "    f = sum(list([1 for x in G.nodes() if G.degree[x]<=k]))/n\n",
    "    return f\n",
    "\n",
    "def plot_cdfs(cdf1,cdf2,max_degree,labelx,labely):\n",
    "    plt.plot(list(range(max_degree+1)),cdf1,\"bo\") # Poisson is blue\n",
    "    plt.plot(list(range(max_degree+1)),cdf2,\"go\") # Empirical degree distribution is green \n",
    "    plt.ylabel(labely)\n",
    "    plt.yscale(\"log\")\n",
    "    plt.xlabel(labelx)\n",
    "    plt.show()\n",
    "    return \n",
    " \n",
    "for k in K: \n",
    "    poisson_cdf,ecm_cdf = [],[]\n",
    "    n = N(k) # number of node in this iteration(k)\n",
    "    print(n) \n",
    "    # Get stubs using Poisson \n",
    "    k_ecm = poisson.rvs(mu,size=n)\n",
    "    if sum(k_ecm)%2!=0: k_ecm[-1]+=1\n",
    "    cm_graph = ECM(k_ecm)\n",
    "    \n",
    "    # Get the cdfs using both poisson and our graph \n",
    "    degree_sequence = [cm_graph.degree(x) for x in cm_graph.nodes()]\n",
    "    max_degree = max(degree_sequence)\n",
    "    for k in range(0,max_degree+1):\n",
    "        poisson_cdf.append(poisson.cdf(k,mu))\n",
    "        ecm_cdf.append(cumulative_distribution_function(cm_graph,k))\n",
    "    \n",
    "    # Plot the cdfs regarding this k \n",
    "    plot_cdfs(poisson_cdf,ecm_cdf,max_degree,\"Degree\",\"CDF value\")\n",
    "\n"
   ]
  }
 ],
 "metadata": {
  "kernelspec": {
   "display_name": "Python 3 (ipykernel)",
   "language": "python",
   "name": "python3"
  },
  "language_info": {
   "codemirror_mode": {
    "name": "ipython",
    "version": 3
   },
   "file_extension": ".py",
   "mimetype": "text/x-python",
   "name": "python",
   "nbconvert_exporter": "python",
   "pygments_lexer": "ipython3",
   "version": "3.10.7"
  }
 },
 "nbformat": 4,
 "nbformat_minor": 5
}
