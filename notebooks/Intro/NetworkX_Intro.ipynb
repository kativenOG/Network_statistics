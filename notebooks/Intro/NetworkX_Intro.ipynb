{
 "cells": [
  {
   "cell_type": "markdown",
   "id": "4b8c9e12",
   "metadata": {},
   "source": [
    "# Introduction to NetworkX\n",
    "\n",
    "In this course we will use the **NetworkX library** for working with networks. This notebook is meant as a very short and basic introduction to using this library. For more information see https://networkx.org/documentation/stable/index.html or https://networkx.org/documentation/stable/tutorial.html for a quick introduction to using the library.\n",
    "\n",
    "We begin with loading in the library"
   ]
  },
  {
   "cell_type": "code",
   "execution_count": 1,
   "id": "30cfea47",
   "metadata": {},
   "outputs": [],
   "source": [
    "import networkx as nx"
   ]
  },
  {
   "cell_type": "markdown",
   "id": "145fe298",
   "metadata": {},
   "source": [
    "## Creating a graph\n",
    "\n",
    "The first thing we need to do is create a graph. This is done by first using the `Graph` function of NetworkX to create a graph object. Then we add nodes to this graphs using `add_node` and finally we create edges using `add_edges`.\n",
    "\n",
    "Below is an example code that creates a triangle graph."
   ]
  },
  {
   "cell_type": "code",
   "execution_count": 2,
   "id": "2e4e8218",
   "metadata": {},
   "outputs": [
    {
     "name": "stdout",
     "output_type": "stream",
     "text": [
      "Graph with 3 nodes and 3 edges\n"
     ]
    }
   ],
   "source": [
    "### To create a new network from scratch we use the Graph function.\n",
    "\n",
    "triangle_graph = nx.Graph()\n",
    "\n",
    "### This network has no nodes or edges. So lets start by adding three nodes.\n",
    "triangle_graph.add_node(1)\n",
    "triangle_graph.add_node(2)\n",
    "triangle_graph.add_node(3)\n",
    "\n",
    "### Next we add edges to make this network into a triangle\n",
    "triangle_graph.add_edge(1,2)\n",
    "triangle_graph.add_edge(2,3)\n",
    "triangle_graph.add_edge(3,1)\n",
    "print(triangle_graph)"
   ]
  },
  {
   "cell_type": "markdown",
   "id": "c987bbf9",
   "metadata": {},
   "source": [
    "Once a graph is created we can access the nodes and edges in the graph using the `nodes` and `edges` functions. The `nodes` function returns an list with the node labels. The `edges` function returns a lists if *edges* where each edge is again a list of lenght 2."
   ]
  },
  {
   "cell_type": "code",
   "execution_count": 3,
   "id": "2ff6a4e5",
   "metadata": {},
   "outputs": [
    {
     "name": "stdout",
     "output_type": "stream",
     "text": [
      "Node 1 is part of the graph\n",
      "Node 2 is part of the graph\n",
      "Node 3 is part of the graph\n",
      "Edge (1, 2) is part of the graph and connects 1 with 2\n",
      "Edge (1, 3) is part of the graph and connects 1 with 3\n",
      "Edge (2, 3) is part of the graph and connects 2 with 3\n"
     ]
    }
   ],
   "source": [
    "### List all nodes and edges in the graph\n",
    "\n",
    "for node in triangle_graph.nodes():\n",
    "    print(f\"Node {node} is part of the graph\")\n",
    "    \n",
    "for edge in triangle_graph.edges():\n",
    "    print(f\"Edge {edge} is part of the graph and connects {edge[0]} with {edge[1]}\")"
   ]
  },
  {
   "cell_type": "markdown",
   "id": "4eab3835",
   "metadata": {},
   "source": [
    "Instead of first adding each node to the graph and then the edges, we can simply start with adding edges. This is because when an edge is added using `add_edge` each node that is not yet part of the graph is added automatically. Note that this way you will never have a node with $d_i=0$."
   ]
  },
  {
   "cell_type": "code",
   "execution_count": 4,
   "id": "4a8a99e2",
   "metadata": {},
   "outputs": [
    {
     "name": "stdout",
     "output_type": "stream",
     "text": [
      "Node 1 is part of the graph\n",
      "Node 2 is part of the graph\n",
      "Node 3 is part of the graph\n"
     ]
    }
   ],
   "source": [
    "### Create the network object\n",
    "triangle_graph_alt = nx.Graph()\n",
    "\n",
    "### Now we directly add the edges to make this network into a triangle\n",
    "triangle_graph_alt.add_edge(1,2)\n",
    "triangle_graph_alt.add_edge(2,3)\n",
    "triangle_graph_alt.add_edge(3,1)\n",
    "\n",
    "\n",
    "### Let's check that all nodes are part of the graph\n",
    "for node in triangle_graph_alt.nodes():\n",
    "    print(f\"Node {node} is part of the graph\")"
   ]
  },
  {
   "cell_type": "markdown",
   "id": "a6749f2c",
   "metadata": {},
   "source": [
    "## Accessing neighbors of nodes\n",
    "\n",
    "When we have a graph we can also list neighbors of given nodes and loop through them. For this we use the `adj` function which returns a dictionary where each entry has a key corresponding to the label of neighbors of a given node. For example `adj[i]` is has as keys the labels of the neighbors of the node whose label is $i$. \n",
    "\n",
    "To demonstrate we will create a graph on 4 nodes that form a square and list all neighbors of node $1$."
   ]
  },
  {
   "cell_type": "code",
   "execution_count": 5,
   "id": "ac68323f",
   "metadata": {
    "scrolled": true
   },
   "outputs": [
    {
     "name": "stdout",
     "output_type": "stream",
     "text": [
      "Number of neighbors of node 1 is 2\n",
      "Node 1 is connected to the following nodes:\n",
      "\t node 2\n",
      "\t node 4\n"
     ]
    }
   ],
   "source": [
    "### Create the square graph\n",
    "square_graph = nx.Graph()\n",
    "\n",
    "square_graph.add_edge(1,2)\n",
    "square_graph.add_edge(2,3)\n",
    "square_graph.add_edge(3,4)\n",
    "square_graph.add_edge(4,1)\n",
    "\n",
    "### Retreive the list of neighbors of node 1\n",
    "neighbors = square_graph.adj[1]\n",
    "\n",
    "### The length of the neighbors is equal to the degree of the node\n",
    "### NOTE: In general it is better to use G.degree[1] to get the degree of node 1\n",
    "print(f\"Number of neighbors of node {1} is {len(neighbors)}\")\n",
    "\n",
    "### We can access each neighbor in a loop as follows\n",
    "\n",
    "print(f\"Node {1} is connected to the following nodes:\")\n",
    "for neighbor in neighbors:\n",
    "    print(f\"\\t node {neighbor}\")"
   ]
  },
  {
   "cell_type": "markdown",
   "id": "e28f3a15",
   "metadata": {},
   "source": [
    "We can also loop through all nodes and their neighbors simultaniously using `adjacency`. An example is given below. Note that since the graph is undirected, each edge is visited twice."
   ]
  },
  {
   "cell_type": "code",
   "execution_count": 6,
   "id": "deab8b68",
   "metadata": {},
   "outputs": [
    {
     "name": "stdout",
     "output_type": "stream",
     "text": [
      "Node 1 is connected to:\n",
      "\t node 2\n",
      "\t node 4\n",
      "Node 2 is connected to:\n",
      "\t node 1\n",
      "\t node 3\n",
      "Node 3 is connected to:\n",
      "\t node 2\n",
      "\t node 4\n",
      "Node 4 is connected to:\n",
      "\t node 3\n",
      "\t node 1\n"
     ]
    }
   ],
   "source": [
    "### Loop over all nodes in the square and their neighbors.\n",
    "for node,neighbors in square_graph.adjacency():\n",
    "    print(f\"Node {node} is connected to:\")\n",
    "    for neighbor in neighbors:\n",
    "        print(f\"\\t node {neighbor}\")"
   ]
  },
  {
   "cell_type": "markdown",
   "id": "4bd5b068",
   "metadata": {},
   "source": [
    "## Exercises"
   ]
  },
  {
   "cell_type": "markdown",
   "id": "37f0013e",
   "metadata": {},
   "source": [
    "**Exercise 1**\n",
    "This exercise will help you to practice a bit with the basic functions.\n",
    "\n",
    "1. Create a graph using the code below.\n",
    "2. List all nodes that are neighbors of node $17$ and node $71$.\n",
    "3. Check if there exists a triangle between nodes $3$, $5$ and $7$. If not, add this triangle to the graph."
   ]
  },
  {
   "cell_type": "code",
   "execution_count": 7,
   "id": "f007ef09",
   "metadata": {},
   "outputs": [],
   "source": [
    "### Generate a graph with 100 nodes\n",
    "graph = nx.erdos_renyi_graph(100,0.2)\n",
    "\n",
    "### Note that the nodes are labeled 0 - 99\n",
    "#print(graph.nodes())"
   ]
  },
  {
   "cell_type": "code",
   "execution_count": 8,
   "id": "0dffac96",
   "metadata": {},
   "outputs": [
    {
     "name": "stdout",
     "output_type": "stream",
     "text": [
      "Adj nodes of 17:\n",
      "\t Node: 15\n",
      "\t Node: 16\n",
      "\t Node: 28\n",
      "\t Node: 29\n",
      "\t Node: 31\n",
      "\t Node: 35\n",
      "\t Node: 36\n",
      "\t Node: 44\n",
      "\t Node: 52\n",
      "\t Node: 56\n",
      "\t Node: 61\n",
      "\t Node: 66\n",
      "\t Node: 67\n",
      "\t Node: 78\n",
      "\t Node: 83\n",
      "\t Node: 87\n",
      "\t Node: 88\n",
      "\t Node: 90\n",
      "\t Node: 96\n",
      "\n",
      "Adj nodes of 71:\n",
      "\t Node: 5\n",
      "\t Node: 8\n",
      "\t Node: 11\n",
      "\t Node: 12\n",
      "\t Node: 14\n",
      "\t Node: 15\n",
      "\t Node: 26\n",
      "\t Node: 28\n",
      "\t Node: 32\n",
      "\t Node: 44\n",
      "\t Node: 45\n",
      "\t Node: 50\n",
      "\t Node: 55\n",
      "\t Node: 59\n",
      "\t Node: 65\n",
      "\t Node: 67\n",
      "\t Node: 84\n",
      "\t Node: 88\n",
      "\t Node: 91\n",
      "\n"
     ]
    }
   ],
   "source": [
    "### Solution\n",
    "neighbors71 = graph.adj[71]\n",
    "neighbors17 = graph.adj[17]\n",
    "adj_iter = zip(neighbors17,neighbors71)\n",
    "adj_string1,adj_string2 = \"Adj nodes of 17:\\n\",\"Adj nodes of 71:\\n\"\n",
    "for node1,node2 in adj_iter:\n",
    "    adj_string1+= f\"\\t Node: {node1}\\n\"\n",
    "    adj_string2+= f\"\\t Node: {node2}\\n\"\n",
    "print(adj_string1)\n",
    "print(adj_string2)"
   ]
  },
  {
   "cell_type": "markdown",
   "id": "52646d82",
   "metadata": {},
   "source": [
    "**Exercise 2**\n",
    "Up to now we have dealt only with undirected graphs but NetworkX also allows for directed graphs. To create a directed graph we need to use `DiGraph` instead of `Graph`. \n",
    "\n",
    "Create a directed graph on 5 nodes such that they form a cycle, i.e. node $i$ is connected to $(i+1) \\mod 5$. Check your code by listing for each node its out-neighbors and in-neighbors. For this you can use the `successors` and `predecessors` function. "
   ]
  },
  {
   "cell_type": "code",
   "execution_count": 19,
   "id": "e75b4057",
   "metadata": {},
   "outputs": [
    {
     "name": "stdout",
     "output_type": "stream",
     "text": [
      "GRAPH:\n",
      "\n",
      "Node 1:\n",
      "\n",
      "\t Predecessors: 5 \n",
      "\n",
      "\t Successors: 2 \n",
      "\n",
      "Node 2:\n",
      "\n",
      "\t Predecessors: 1 \n",
      "\n",
      "\t Successors: 3 \n",
      "\n",
      "Node 3:\n",
      "\n",
      "\t Predecessors: 2 \n",
      "\n",
      "\t Successors: 4 \n",
      "\n",
      "Node 4:\n",
      "\n",
      "\t Predecessors: 3 \n",
      "\n",
      "\t Successors: 5 \n",
      "\n",
      "Node 5:\n",
      "\n",
      "\t Predecessors: 4 \n",
      "\n",
      "\t Successors: 1 \n",
      "\n"
     ]
    }
   ],
   "source": [
    "### Solution\n",
    "MAXX=5 \n",
    "G = nx.DiGraph()\n",
    "for i in range(1,MAXX+1):\n",
    "    if i==5: G.add_edge(i,1)\n",
    "    else: G.add_edge(i,i+1)\n",
    "\n",
    "print(\"GRAPH:\\n\")\n",
    "for node in G.nodes():\n",
    "    predecessors,successors = \"\",\"\"\n",
    "    print(f\"Node {node}:\\n\")\n",
    "    for pre,suc in zip(G.predecessors(node),G.successors(node)):\n",
    "        predecessors+=f\"{pre} \" \n",
    "        successors+=f\"{suc} \" \n",
    "    print(f\"\\t Predecessors: {predecessors}\\n\")\n",
    "    print(f\"\\t Successors: {successors}\\n\")"
   ]
  }
 ],
 "metadata": {
  "kernelspec": {
   "display_name": "Python 3 (ipykernel)",
   "language": "python",
   "name": "python3"
  },
  "language_info": {
   "codemirror_mode": {
    "name": "ipython",
    "version": 3
   },
   "file_extension": ".py",
   "mimetype": "text/x-python",
   "name": "python",
   "nbconvert_exporter": "python",
   "pygments_lexer": "ipython3",
   "version": "3.10.7"
  }
 },
 "nbformat": 4,
 "nbformat_minor": 5
}
