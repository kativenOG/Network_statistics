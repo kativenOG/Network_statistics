{
 "cells": [
  {
   "cell_type": "markdown",
   "id": "02e211a0",
   "metadata": {},
   "source": [
    "# Stochastic block model"
   ]
  },
  {
   "cell_type": "markdown",
   "id": "1f14b9cd",
   "metadata": {},
   "source": [
    "The stochastic block model is a random graph model where all vertices are assigned a group. Edges are place between two vertices independently from the placement of other edges. The probability that an edge is placed between two given vertices depends only on the groups they have been assigned to. This random graph model is often used to mimic social where people are subdivided into groups where there is a lot of communication within people of each group, but not much between people from different groups.\n",
    "\n",
    "Mathematically , the model is defined through a vector $\\vec{n} = (n_1, n_2, \\ldots, n_r)$ and a matrix $$P = \\begin{pmatrix}\n",
    "p_{11} & \\cdots & p_{1r} \\\\\n",
    "   \\vdots & \\ddots & \\vdots \\\\\n",
    "   p_{r1} & \\cdots & p_{rr}\n",
    "\\end{pmatrix}.$$\n",
    "Here, $r$ is the number of groups, the value of $n_k$ for fixed $k \\in \\{1, 2, \\ldots, r\\}$ tells you how many vertices are present in group $k$. Finally, the value of $p_{kl}$ for fixed $k, l \\in \\{1, 2, \\ldots, r\\}$ tells you the probability that an edge is placed between a vertex of group $k$ and $l$. Since the output graph is undirected, we need to have that $p_{kl} = p_{lk}$.\n",
    "\n",
    "Algorithmically, we can create an instance of the stochastic block model by first generating an array $V = \\{1, 2, \\ldots, n_1 + n_2 + \\ldots + n_r\\}$ of vertices and an array $T$ of vertex groups. Element $T_i$ in the array $T$ will contain the group of vertex $i \\in V$. For simplicity, you can often let $T$ be given by $$T = \\{\\underbrace{1, 1, \\ldots, 1}_{n_1 \\text{ times}}, \\underbrace{2, 2, \\ldots, 2}_{n_2 \\text{ times}}, \\ldots, \\underbrace{r, r, \\ldots, r}_{n_r \\text{ times}}\\}.$$ After defining $V$ and $T$, we loop through all vertices $i, j \\in V$ such that $i \\neq j$ and check their groups. Suppose that the group of vertex $i$ is $k$ and the group of vertex $j$ is $l$. Then, we add the edge $\\{i, j\\}$ to the edge list $E$ with probability $p_{kl}$. After we have looped over all pairs of vertices, then we have found a realisation of the stochastic block model."
   ]
  },
  {
   "cell_type": "markdown",
   "id": "a0e8832c",
   "metadata": {},
   "source": [
    "**Exercise 1.** Create a function ``SBM(n, P)`` that inputs the vector $\\vec{n}$ and matrix $P$ and outputs an instance of the stochastic block model. Make sure it outputs the vertex list $V$, the group list $T$ and the edge list $E$. "
   ]
  },
  {
   "cell_type": "code",
   "execution_count": 2,
   "id": "a072c4a1",
   "metadata": {},
   "outputs": [],
   "source": [
    "import numpy as np\n",
    "\n",
    "def SBM(n, P):\n",
    "    V = []\n",
    "    T = []\n",
    "    E = []\n",
    "    #Your solution goes here\n",
    "    \n",
    "    # Calculating V:\n",
    "    v_range = sum(n)\n",
    "    V = np.array([val for val in range(1,v_range+1)])\n",
    "    # Calculating T:\n",
    "    for n_value,group in zip(n,range(1,len(n)+1)): \n",
    "        T.extend([group]*n_value)\n",
    "    # Calculating E:\n",
    "    for i in range(v_range):\n",
    "        for j in range(v_range):\n",
    "            if i!= j:\n",
    "                k,l = T[i],T[j]\n",
    "                p = P[i][j]\n",
    "                edge = tuple(i,j,p)\n",
    "                E.append(edge)\n",
    "\n",
    "    return V, E, T"
   ]
  },
  {
   "cell_type": "markdown",
   "id": "721f09e8",
   "metadata": {},
   "source": [
    "## The stochastic block model in NetworkX"
   ]
  },
  {
   "cell_type": "markdown",
   "id": "79a15374",
   "metadata": {},
   "source": [
    "In NetworkX the stochastic block model can be generated using the function ``stochastic_block_model``. It inputs the vector $\\vec{n}$ and the matrix $P$ as lists (or ``np.array`` objects). Below you see some example code where NetworkX is used to generate an instance of the stochastic block model with three groups."
   ]
  },
  {
   "cell_type": "code",
   "execution_count": 3,
   "id": "e70cf163",
   "metadata": {},
   "outputs": [],
   "source": [
    "import networkx as nx\n",
    "\n",
    "#Generate the instance of SBM\n",
    "n = [50, 30, 10]\n",
    "P = [[0.5, 0.1, 0.02], [0.1, 0.7, 0.1], [0.02, 0.1, 0.3]]\n",
    "G = nx.stochastic_block_model(n, P)\n",
    "\n",
    "#Extract the vertex list, edge list, and the group allocation\n",
    "V = np.array(G.nodes)\n",
    "E = np.array(G.edges)\n",
    "T = np.zeros_like(V)\n",
    "for group, partition in enumerate(np.array(G.graph['partition'])):\n",
    "    T[np.array(list(partition))] = group"
   ]
  },
  {
   "cell_type": "markdown",
   "id": "66a3f164",
   "metadata": {},
   "source": [
    "**Exercise 2.** By default, the function ``stochastic_block_model`` will always assign vertex $1$ through $n_1$ to group $1$, vertex $n_1 + 1$ through $n_1 + n_2$ to group $2$ et cetera. Sometimes, though, you might want to specificy the groups beforehand. Create an implementation of the stochastic block model using NetworkX where you input the vertex-group array $T$ and the probability matrix $P$, but not the vector $\\vec{n}$."
   ]
  },
  {
   "cell_type": "code",
   "execution_count": 4,
   "id": "ac35f51b",
   "metadata": {},
   "outputs": [],
   "source": [
    "from collections import Counter\n",
    "#Your answer goes here\n",
    "def sbm_with_node_groups(T,P):\n",
    "    group_vals= Counter(T)\n",
    "    n= list(group_vals.values())\n",
    "    G = nx.stochastic_block_model(sizes=n,p=P,nodelist=T)\n",
    "    return G\n"
   ]
  },
  {
   "cell_type": "markdown",
   "id": "c3b2f854",
   "metadata": {},
   "source": [
    "Like in the Erdős–Rényi model, the implementation of ``stochastic_block_model`` in NetworkX might be relatively slow when the probabilities $p_{kl}$ in the matrix $P$ satisfy $$p_{kl} \\approx \\frac{C_{kl}}{n_1 + n_2 + \\ldots + n_r},$$ for some fixed constant $C_{kl} > 0$ for all groups $k$ and $l$. To solve this issue, the NetworkX implementation of ``stochastic_block_model`` has an optional parameter ``sparse`` that changes the generation algorithm of the stochastic block model. Its default value is \"true\" which results in a faster algorithm when the probabilities $p_{kl}$ are small compared to $n_1 + n_2 + \\ldots + n_r$, but a slower algorithm when these values are big. "
   ]
  },
  {
   "cell_type": "markdown",
   "id": "b71e9da8",
   "metadata": {},
   "source": [
    "**Exercise 3.** Compare the NetworkX implementation of the stochastic block model for increasing values of $n$ with the following two probability matrices: $$P_1 = \\begin{pmatrix}0.3 & 0.6 \\\\0.6 & 0.4 \\end{pmatrix}, \\qquad \\text{and} \\qquad P_2 = \\begin{pmatrix}0.15 / n & 0.3/n \\\\0.3/n & 0.2/n \\end{pmatrix}. $$ Take $n_1 = n_2 = n/2$ (rounding the values up or down if needed), and consider both the option ``sparse`` to be true, and ``sparse`` to be false. For each value of $n$ you consider, measure the average time the code takes to run over multiple realisations of the model. Then, plot these times on a log-log scale for all probability matrices and ``sparse``-option settings. What do you see?"
   ]
  },
  {
   "cell_type": "code",
   "execution_count": 5,
   "id": "203a8a62",
   "metadata": {},
   "outputs": [
    {
     "name": "stdout",
     "output_type": "stream",
     "text": [
      "Calculating P1\n",
      "Calculating P2\n"
     ]
    },
    {
     "data": {
      "image/png": "[encoded data removed]",
      "text/plain": [
       "<Figure size 640x480 with 1 Axes>"
      ]
     },
     "metadata": {},
     "output_type": "display_data"
    }
   ],
   "source": [
    "import time \n",
    "import matplotlib.pyplot as plt  \n",
    "import networkx as nx \n",
    "n_iterations = list(range(1,2))\n",
    "tests_for_iteration = 2\n",
    "P1 = [[0.3,0.6],[0.6,0.4]]\n",
    "P2 = [[0.15,0.3],[0.3,0.2]]\n",
    "\n",
    "def calculate_avg_time(P,n_iterations,tests_for_iteration):\n",
    "    n = 10\n",
    "    plot_times, plot_times_sparse = [],[]\n",
    "    for _ in n_iterations:\n",
    "        n *=10\n",
    "        with_sparse = []                                                   \n",
    "        without_sparse = []                                            \n",
    "        for _ in range(tests_for_iteration):                               \n",
    "            start_time = time.time()                                       \n",
    "            G = nx.stochastic_block_model(sizes=[int(n/2),int(n/2)],p=P,sparse=False) \n",
    "            without_sparse.append(time.time() - start_time)                \n",
    "        for _ in range(tests_for_iteration):                               \n",
    "            start_time = time.time()                                       \n",
    "            G = nx.stochastic_block_model(sizes=[int(n/2),int(n/2)],p=P,sparse=True)  \n",
    "            with_sparse.append(time.time() - start_time)                   \n",
    "        plot_times.append(sum(without_sparse)/len(without_sparse))         \n",
    "        plot_times_sparse.append(sum(with_sparse)/len(with_sparse))        \n",
    "    return plot_times,plot_times_sparse\n",
    "\n",
    "print(\"Calculating P1\")\n",
    "plot_times1,plot_times_sparse1 = calculate_avg_time(P1,n_iterations,tests_for_iteration)\n",
    "print(\"Calculating P2\")\n",
    "plot_times2,plot_times_sparse2 = calculate_avg_time(P2,n_iterations,tests_for_iteration)\n",
    "\n",
    "def plot_sbm(times,n_iterations):\n",
    "    n_x_axys = []\n",
    "    n = 10  \n",
    "    for _ in n_iterations:\n",
    "        n = 10  \n",
    "        n_x_axys.append(n)\n",
    "    plt.plot(n_x_axys,times)\n",
    "    plt.ylabel(\"AVG Time to create graph\")\n",
    "    plt.xlabel(\"Size \")\n",
    "    plt.show\n",
    "\n",
    "plot_sbm(plot_times1,n_iterations)\n",
    "plot_sbm(plot_times_sparse1,n_iterations)\n",
    "plot_sbm(plot_times2,n_iterations)\n",
    "plot_sbm(plot_times_sparse2,n_iterations)"
   ]
  }
 ],
 "metadata": {
  "kernelspec": {
   "display_name": "Python 3 (ipykernel)",
   "language": "python",
   "name": "python3"
  },
  "language_info": {
   "codemirror_mode": {
    "name": "ipython",
    "version": 3
   },
   "file_extension": ".py",
   "mimetype": "text/x-python",
   "name": "python",
   "nbconvert_exporter": "python",
   "pygments_lexer": "ipython3",
   "version": "3.10.7"
  }
 },
 "nbformat": 4,
 "nbformat_minor": 5
}
