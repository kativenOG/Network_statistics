{
 "cells": [
  {
   "cell_type": "markdown",
   "id": "c4bfa1cf",
   "metadata": {},
   "source": [
    "# Network properties"
   ]
  },
  {
   "cell_type": "markdown",
   "id": "6c81a6c8",
   "metadata": {},
   "source": [
    "In this notebook you will learn how to use the NetworkX library to analyze basic properties of networks."
   ]
  },
  {
   "cell_type": "markdown",
   "id": "37646fcd",
   "metadata": {},
   "source": [
    "## Degrees"
   ]
  },
  {
   "cell_type": "markdown",
   "id": "18cba927",
   "metadata": {},
   "source": [
    "The most basic property of a network is the number of connections nodes have, the *degree* of a node. In this notebook we will show how to compute different properties associated to degrees. To illustrate this we first generate a *star graph* where one central is connected to $4$ other nodes."
   ]
  },
  {
   "cell_type": "code",
   "execution_count": 1,
   "id": "066bead3",
   "metadata": {},
   "outputs": [],
   "source": [
    "import networkx as nx"
   ]
  },
  {
   "cell_type": "code",
   "execution_count": 2,
   "id": "0ff7121d",
   "metadata": {},
   "outputs": [],
   "source": [
    "star_graph = nx.Graph()\n",
    "\n",
    "star_graph.add_edge(1,2)\n",
    "star_graph.add_edge(1,3)\n",
    "star_graph.add_edge(1,4)\n",
    "star_graph.add_edge(1,5)"
   ]
  },
  {
   "cell_type": "markdown",
   "id": "3fa16e5f",
   "metadata": {},
   "source": [
    "The degree of a node can be accessed by using the `degree` function of a graph. To get the degree of a node with label $i$ we simply use `degree[i]`. Below we will show this for the star graph by retreiving the degree of node $1$ (the central node) and one of its neighbors."
   ]
  },
  {
   "cell_type": "code",
   "execution_count": 3,
   "id": "53f67e18",
   "metadata": {},
   "outputs": [
    {
     "name": "stdout",
     "output_type": "stream",
     "text": [
      "Node 1 is the center node and has degree 4\n",
      "The other nodes are leaves and have degree 1\n"
     ]
    }
   ],
   "source": [
    "degree_of_node_1 = star_graph.degree[1] # just returns --> len(star_graph.adj[1]) \n",
    "\n",
    "print(f\"Node 1 is the center node and has degree {degree_of_node_1}\")\n",
    "\n",
    "### All other nodes have the same degree\n",
    "degree_of_other_nodes = star_graph.degree[2]\n",
    "\n",
    "print(f\"The other nodes are leaves and have degree {degree_of_other_nodes}\")"
   ]
  },
  {
   "cell_type": "markdown",
   "id": "e7ef1b59",
   "metadata": {},
   "source": [
    "We can also directly access all degrees in the graph using the `degree` function. By calling `degree()` we obtain a list whose elements are `(node, degree)`. We can then use this list to compute all relevant properies related to degrees. "
   ]
  },
  {
   "cell_type": "code",
   "execution_count": 4,
   "id": "6a5e3cea",
   "metadata": {},
   "outputs": [
    {
     "name": "stdout",
     "output_type": "stream",
     "text": [
      "[(1, 4), (2, 1), (3, 1), (4, 1), (5, 1)]\n",
      "Average degree of the graph: 1.6\n"
     ]
    }
   ],
   "source": [
    "### Here is the list of (node, degree) pairs\n",
    "print(star_graph.degree()) \n",
    "# molto utile, facciamo una media ! \n",
    "avg_degree = sum(map(lambda x: x[1],star_graph.degree()))/len(star_graph.degree())\n",
    "print(f\"Average degree of the graph: {avg_degree}\")\n"
   ]
  },
  {
   "cell_type": "code",
   "execution_count": 5,
   "id": "80f1143a",
   "metadata": {},
   "outputs": [
    {
     "name": "stdout",
     "output_type": "stream",
     "text": [
      "Node 1 has degree 4\n",
      "Node 2 has degree 1\n",
      "Node 3 has degree 1\n",
      "Node 4 has degree 1\n",
      "Node 5 has degree 1\n"
     ]
    }
   ],
   "source": [
    "### We now loop through this list an report the degree of each node\n",
    "for (node,degree) in star_graph.degree():\n",
    "    print(f\"Node {node} has degree {degree}\")"
   ]
  },
  {
   "cell_type": "markdown",
   "id": "a13cdf3d",
   "metadata": {},
   "source": [
    "By creating a list of all the second values of items in `degree()` we get the sequence of all degrees, which is called the *degree sequence*."
   ]
  },
  {
   "cell_type": "code",
   "execution_count": 6,
   "id": "330b6edd",
   "metadata": {},
   "outputs": [
    {
     "name": "stdout",
     "output_type": "stream",
     "text": [
      "The degree sequence of the network is: [4, 1, 1, 1, 1]\n"
     ]
    }
   ],
   "source": [
    "degree_sequence = [degree for node, degree in star_graph.degree()]\n",
    "print(f\"The degree sequence of the network is: {degree_sequence}\")"
   ]
  },
  {
   "cell_type": "markdown",
   "id": "23571aeb",
   "metadata": {},
   "source": [
    "From the degree sequence we can compute the average degree. Below we show two ways of doing this. The first is the naive method which uses the `number_of_nodes` function from NetworkX to get the number of nodes in the graph. the second one using build-in functions of Python"
   ]
  },
  {
   "cell_type": "code",
   "execution_count": 7,
   "id": "b885052a",
   "metadata": {},
   "outputs": [
    {
     "name": "stdout",
     "output_type": "stream",
     "text": [
      "The average degree of the graph is 1.5999999999999999\n",
      "The average degree of the graph with no for loop is: 1.6\n"
     ]
    }
   ],
   "source": [
    "average_degree = 0\n",
    "\n",
    "### Using the num_nodes functions from Network\n",
    "n = nx.number_of_nodes(star_graph)\n",
    "\n",
    "for degree in degree_sequence:\n",
    "    average_degree += degree/n\n",
    "\n",
    "print(f\"The average degree of the graph is {average_degree}\")\n",
    "    \n",
    "# Ok but i0ve done it better with no for \n",
    "avg_degree = sum(map(lambda x: x[1],star_graph.degree()))/len(star_graph.degree())\n",
    "print(f\"The average degree of the graph with no for loop is: {avg_degree}\")\n",
    "# HEHE \n"
   ]
  },
  {
   "cell_type": "code",
   "execution_count": 8,
   "id": "1ac2b243",
   "metadata": {},
   "outputs": [
    {
     "name": "stdout",
     "output_type": "stream",
     "text": [
      "The average degree of the graph is still 1.6\n"
     ]
    }
   ],
   "source": [
    "average_degree_alt = sum(degree_sequence)/len(degree_sequence)\n",
    "print(f\"The average degree of the graph is still {average_degree_alt}\")"
   ]
  },
  {
   "cell_type": "markdown",
   "id": "3a50e64f",
   "metadata": {},
   "source": [
    "Another thing we can compute from the degree sequence is the empirical degree distribution $p_n(k)$ and plot. We will show how this works for the start graph using functions from the Python libraries *numpy* and *matplotlib*."
   ]
  },
  {
   "cell_type": "code",
   "execution_count": 9,
   "id": "dd8b2d97",
   "metadata": {},
   "outputs": [
    {
     "name": "stdout",
     "output_type": "stream",
     "text": [
      "NB: n=5 is equivalent to the lenght of the nodes attribute of a graph: 5\n",
      "I like lambdas: [4, 1, 1, 1, 1]\n",
      "More than list comprension: [4, 1, 1, 1, 1]\n",
      "\n",
      "The degree density list of the network is: [0.8, 0, 0, 0.2]\n"
     ]
    },
    {
     "data": {
      "image/png": "[encoded data removed]",
      "text/plain": [
       "<Figure size 640x480 with 1 Axes>"
      ]
     },
     "metadata": {},
     "output_type": "display_data"
    }
   ],
   "source": [
    "#### EMPIRICAL DEGREE DISTRIBUTION\n",
    "import numpy as np\n",
    "import matplotlib.pyplot as plt\n",
    "\n",
    "### First we retreive the total number of nodes in the graph\n",
    "n = nx.number_of_nodes(star_graph)\n",
    "# OR \n",
    "print(f\"NB: n={n} is equivalent to the lenght of the nodes attribute of a graph: {len(star_graph.nodes())}\")\n",
    "degree_sequence_mock = list(map(lambda x: x[1],star_graph.degree()))\n",
    "print(f\"I like lambdas: {degree_sequence_mock}\\nMore than list comprension: {degree_sequence}\\n\")\n",
    "\n",
    "### Next we compute the maximum degree and create a list for the degree density \n",
    "### whose length is equal to the maximum degree\n",
    "max_degree = max(degree_sequence)\n",
    "degree_density = [0]*max_degree\n",
    "\n",
    "### We then loop through the degree values in the degree sequence and for each value\n",
    "### we encounter we increase the corresponding value of degree_density by 1/n\n",
    "for degree in degree_sequence:\n",
    "    degree_density[degree-1] += 1/n\n",
    "\n",
    "### To see the result we output this degree density list\n",
    "print(f\"The degree density list of the network is: {degree_density}\")\n",
    "\n",
    "### Now we plot the degree density. For this we first need to construct the values for the x-axis.\n",
    "### For this we first create a list [0,...,maximum degree - 1, maximum degree] using the arrange function from numpy\n",
    "### and then select the sublist [1, ..., maximum degree]\n",
    "### NB: the x array are the values on the x axys (lol)\n",
    "x = np.arange(max_degree+1)\n",
    "x = x[1:len(x)] # we get rid of the zero because a node with degree=0 is the simplest graph ever  \n",
    "\n",
    "\n",
    "### We use a bar plot from the mathplotlib for plotting the degree distribution\n",
    "plt.bar(x,degree_density)\n",
    "\n",
    "### We use the xticks function to set the values of the x-axis equal to the integers\n",
    "### corresponding to the degrees [1, ..., maximum degree]\n",
    "plt.xticks(x)\n",
    "\n",
    "### For completeness we add a title and labels for the x- and y-axis\n",
    "plt.title('Degree distribution')\n",
    "plt.xlabel('Degrees k')\n",
    "plt.ylabel('p_n(k)')\n",
    "\n",
    "plt.show()"
   ]
  },
  {
   "cell_type": "markdown",
   "id": "6a93a4da",
   "metadata": {},
   "source": [
    "## Paths and components"
   ]
  },
  {
   "cell_type": "markdown",
   "id": "bea94bc9",
   "metadata": {},
   "source": [
    "Next to degrees, another important property of networks has to do with paths. For example, we could be interested in the distance (lenght of the shortest path) between two nodes. Or on a higher level, whether all nodes are connected to each other via a path. The NetworkX provides a wide range of functions for this. Here we will show how to find nodes a give distance from a specific nodes as well as computing the average distance and the connected component to which a node belongs."
   ]
  },
  {
   "cell_type": "markdown",
   "id": "3a142b5a",
   "metadata": {},
   "source": [
    "To illustrate the path functions of NetworkX we will use a cycle graph on 7 nodes.\n",
    "\n",
    "*Recall that nodes labels start at $0$ by default.*"
   ]
  },
  {
   "cell_type": "code",
   "execution_count": 10,
   "id": "43b99a1d",
   "metadata": {},
   "outputs": [],
   "source": [
    "C = nx.cycle_graph(7)"
   ]
  },
  {
   "cell_type": "markdown",
   "id": "7ba78e4f",
   "metadata": {},
   "source": [
    "If we want to compute the distance between two given nodes we can use the `shortest_path_length` function. Below we show how to compute the distance between node 0 and 5. This shoud be $3$ because the path $0-6-5-4$ is shorter than $0-1-2-3-4$."
   ]
  },
  {
   "cell_type": "code",
   "execution_count": 11,
   "id": "e6cb6adb",
   "metadata": {},
   "outputs": [
    {
     "name": "stdout",
     "output_type": "stream",
     "text": [
      "The distance from 0 to 4 is 3\n"
     ]
    }
   ],
   "source": [
    "distance_0_to_4 = nx.shortest_path_length(C, source=0, target=4)\n",
    "\n",
    "print(f\"The distance from 0 to 4 is {distance_0_to_4}\")"
   ]
  },
  {
   "cell_type": "markdown",
   "id": "1814f7c8",
   "metadata": {},
   "source": [
    "Instead of looking only at the distance between two given nodes, we can also compute the distances from all nodes to a given node. For this we can again use the `shortest_path_length` function but this time we simply omit the `target` node.\n",
    "\n",
    "Below we list the distance of all nodes to node 0.\n",
    "\n",
    "**NOTE:** The list of distances will only contain those nodes that are connected to the source node"
   ]
  },
  {
   "cell_type": "code",
   "execution_count": 12,
   "id": "d6a596e7",
   "metadata": {},
   "outputs": [
    {
     "name": "stdout",
     "output_type": "stream",
     "text": [
      "No Target:\n",
      "The distance between node 0 and node 0 is 0\n",
      "The distance between node 0 and node 1 is 1\n",
      "The distance between node 0 and node 6 is 1\n",
      "The distance between node 0 and node 2 is 2\n",
      "The distance between node 0 and node 5 is 2\n",
      "The distance between node 0 and node 3 is 3\n",
      "The distance between node 0 and node 4 is 3\n",
      "\n",
      "{0: 0, 1: 1, 6: 1, 2: 2, 5: 2, 3: 3, 4: 3} it's a dictionary !\n",
      "\n",
      "No Source:\n",
      "The distance between node 0 and node 0 is 0\n",
      "The distance between node 0 and node 1 is 1\n",
      "The distance between node 0 and node 6 is 1\n",
      "The distance between node 0 and node 2 is 2\n",
      "The distance between node 0 and node 5 is 2\n",
      "The distance between node 0 and node 3 is 3\n",
      "The distance between node 0 and node 4 is 3\n"
     ]
    }
   ],
   "source": [
    "print(\"No Target:\")\n",
    "list_of_distances = nx.shortest_path_length(C, source=0) # we did not specify the target \n",
    "for item in list_of_distances.keys():  \n",
    "    print(f\"The distance between node 0 and node {item} is {list_of_distances[item]}\")\n",
    "\n",
    "print(f\"\\n{list_of_distances} it's a dictionary !\\n\") \n",
    "\n",
    "# Lets see if it's also possible with no source:\n",
    "print(\"No Source:\")\n",
    "list_of_distances = nx.shortest_path_length(C, target=0) # we did not specify the target \n",
    "for item in list_of_distances.keys():\n",
    "    print(f\"The distance between node 0 and node {item} is {list_of_distances[item]}\")"
   ]
  },
  {
   "cell_type": "markdown",
   "id": "0bc03380",
   "metadata": {},
   "source": [
    "If we also do not specify the `source` in the `shortest_path_length` function, we get the entire distance matrix. We show this below for the cycle graph and list all distances. \n",
    "\n",
    "**Note:** To be able to access the distance matrix it efficiently, it is helpful to cast it to a dictionary object using the Python `dict` function."
   ]
  },
  {
   "cell_type": "code",
   "execution_count": 13,
   "id": "d8833718",
   "metadata": {},
   "outputs": [
    {
     "name": "stdout",
     "output_type": "stream",
     "text": [
      "Distance from 0 to 0 is 0\n",
      "Distance from 0 to 1 is 1\n",
      "Distance from 0 to 6 is 1\n",
      "Distance from 0 to 2 is 2\n",
      "Distance from 0 to 5 is 2\n",
      "Distance from 0 to 3 is 3\n",
      "Distance from 0 to 4 is 3\n",
      "Distance from 1 to 1 is 0\n",
      "Distance from 1 to 0 is 1\n",
      "Distance from 1 to 2 is 1\n",
      "Distance from 1 to 6 is 2\n",
      "Distance from 1 to 3 is 2\n",
      "Distance from 1 to 5 is 3\n",
      "Distance from 1 to 4 is 3\n",
      "Distance from 2 to 2 is 0\n",
      "Distance from 2 to 1 is 1\n",
      "Distance from 2 to 3 is 1\n",
      "Distance from 2 to 0 is 2\n",
      "Distance from 2 to 4 is 2\n",
      "Distance from 2 to 6 is 3\n",
      "Distance from 2 to 5 is 3\n",
      "Distance from 3 to 3 is 0\n",
      "Distance from 3 to 2 is 1\n",
      "Distance from 3 to 4 is 1\n",
      "Distance from 3 to 1 is 2\n",
      "Distance from 3 to 5 is 2\n",
      "Distance from 3 to 0 is 3\n",
      "Distance from 3 to 6 is 3\n",
      "Distance from 4 to 4 is 0\n",
      "Distance from 4 to 3 is 1\n",
      "Distance from 4 to 5 is 1\n",
      "Distance from 4 to 2 is 2\n",
      "Distance from 4 to 6 is 2\n",
      "Distance from 4 to 1 is 3\n",
      "Distance from 4 to 0 is 3\n",
      "Distance from 5 to 5 is 0\n",
      "Distance from 5 to 4 is 1\n",
      "Distance from 5 to 6 is 1\n",
      "Distance from 5 to 3 is 2\n",
      "Distance from 5 to 0 is 2\n",
      "Distance from 5 to 2 is 3\n",
      "Distance from 5 to 1 is 3\n",
      "Distance from 6 to 6 is 0\n",
      "Distance from 6 to 5 is 1\n",
      "Distance from 6 to 0 is 1\n",
      "Distance from 6 to 4 is 2\n",
      "Distance from 6 to 1 is 2\n",
      "Distance from 6 to 3 is 3\n",
      "Distance from 6 to 2 is 3\n"
     ]
    }
   ],
   "source": [
    "### The outcome of the shortest_path_lenght function is cast to a dictionary.\n",
    "distance_matrix = dict(nx.shortest_path_length(C))\n",
    "\n",
    "### We can now access the distance from node i to j by calling distance_matrix[i][j]\n",
    "\n",
    "### Let us list all entries in the matrix\n",
    "for source in distance_matrix:\n",
    "    for target in distance_matrix[source]:\n",
    "        print(f\"Distance from {source} to {target} is {distance_matrix[source][target]}\")"
   ]
  },
  {
   "cell_type": "markdown",
   "id": "9d470718",
   "metadata": {},
   "source": [
    "Using the distance matrix we can compute the average distance in the graph. However, NetworkX also has a direct function for this `average_shortest_path_length`."
   ]
  },
  {
   "cell_type": "code",
   "execution_count": 14,
   "id": "4559ed7c",
   "metadata": {},
   "outputs": [
    {
     "name": "stdout",
     "output_type": "stream",
     "text": [
      "The average path length of the graph is 2.0\n"
     ]
    }
   ],
   "source": [
    "average_distance = nx.average_shortest_path_length(C)\n",
    "\n",
    "print(f\"The average path length of the graph is {average_distance}\")"
   ]
  },
  {
   "cell_type": "markdown",
   "id": "bfd4235b",
   "metadata": {},
   "source": [
    "In addition to paths, NetworkX also has functions for finding the connected components of the graph. To illustrate these functions we should use a graph that has at least two components. For this we again create a cycle graph on 7 nodes and then add a disjoint cycle on 3 nodes.  "
   ]
  },
  {
   "cell_type": "code",
   "execution_count": 15,
   "id": "9ccc8a23",
   "metadata": {},
   "outputs": [],
   "source": [
    "### We first create a new cycle graph on 7 nodes\n",
    "D = nx.cycle_graph(7)\n",
    "\n",
    "### Then we add the disjoint triangle\n",
    "D.add_edge(7,8)\n",
    "D.add_edge(7,9)\n",
    "D.add_edge(8,9)"
   ]
  },
  {
   "cell_type": "markdown",
   "id": "579f733b",
   "metadata": {},
   "source": [
    "We can now use the `is_connected` function to test if the graph is connected."
   ]
  },
  {
   "cell_type": "code",
   "execution_count": 16,
   "id": "c7928860",
   "metadata": {},
   "outputs": [
    {
     "name": "stdout",
     "output_type": "stream",
     "text": [
      "Is the graph connected: False\n"
     ]
    }
   ],
   "source": [
    "is_connected = nx.is_connected(D)\n",
    "\n",
    "print(f\"Is the graph connected: {is_connected}\")"
   ]
  },
  {
   "cell_type": "markdown",
   "id": "d2c0f4ed",
   "metadata": {},
   "source": [
    "We can also find the number of components of the graph using `number_connected_components`."
   ]
  },
  {
   "cell_type": "code",
   "execution_count": 7,
   "id": "010ec98b",
   "metadata": {},
   "outputs": [
    {
     "ename": "NameError",
     "evalue": "name 'D' is not defined",
     "output_type": "error",
     "traceback": [
      "\u001b[0;31m---------------------------------------------------------------------------\u001b[0m",
      "\u001b[0;31mNameError\u001b[0m                                 Traceback (most recent call last)",
      "Cell \u001b[0;32mIn[7], line 1\u001b[0m\n\u001b[0;32m----> 1\u001b[0m N_of_components \u001b[39m=\u001b[39m nx\u001b[39m.\u001b[39mnumber_connected_components(D)\n\u001b[1;32m      3\u001b[0m \u001b[39mprint\u001b[39m(\u001b[39mf\u001b[39m\u001b[39m\"\u001b[39m\u001b[39mThe graph has \u001b[39m\u001b[39m{\u001b[39;00mN_of_components\u001b[39m}\u001b[39;00m\u001b[39m components\u001b[39m\u001b[39m\"\u001b[39m)\n",
      "\u001b[0;31mNameError\u001b[0m: name 'D' is not defined"
     ]
    }
   ],
   "source": [
    "N_of_components = nx.number_connected_components(D)\n",
    "\n",
    "print(f\"The graph has {N_of_components} components\")"
   ]
  },
  {
   "cell_type": "markdown",
   "id": "e1f91e31",
   "metadata": {},
   "source": [
    "Finally, we can find all nodes in the component to which a specific node belongs using `node_connected_component`. To illustrate this we will list all nodes in the component of node 7."
   ]
  },
  {
   "cell_type": "code",
   "execution_count": 18,
   "id": "d9a952d1",
   "metadata": {},
   "outputs": [
    {
     "name": "stdout",
     "output_type": "stream",
     "text": [
      "Node 8 belongs to the component of node 7\n",
      "Node 9 belongs to the component of node 7\n",
      "Node 7 belongs to the component of node 7\n"
     ]
    }
   ],
   "source": [
    "component_7 = nx.node_connected_component(D,7)\n",
    "\n",
    "for node in component_7:\n",
    "    print(f\"Node {node} belongs to the component of node 7\")"
   ]
  },
  {
   "cell_type": "markdown",
   "id": "cba6943e",
   "metadata": {},
   "source": [
    "## Triangles and clustering"
   ]
  },
  {
   "cell_type": "markdown",
   "id": "6943ed3d",
   "metadata": {},
   "source": [
    "The final property we cover in the notebook is clustering. The NetworkX library has several functions to analyze triangles in a network and compute the clustering coefficient of each nodes and the average over the whole graph. To illustrate this we create a very simple graph consisting of one triangle."
   ]
  },
  {
   "cell_type": "code",
   "execution_count": 34,
   "id": "31eb812d",
   "metadata": {},
   "outputs": [],
   "source": [
    "triangle_graph = nx.Graph()\n",
    "\n",
    "triangle_graph.add_edge(1,2)\n",
    "triangle_graph.add_edge(2,3)\n",
    "triangle_graph.add_edge(3,1)\n",
    "\n",
    "triangle_graph.add_edge(4,5)\n",
    "triangle_graph.add_edge(4,5)\n",
    "triangle_graph.add_edge(5,6)\n",
    "triangle_graph.add_edge(6,4)\n",
    "triangle_graph.add_edge(6,4)"
   ]
  },
  {
   "cell_type": "markdown",
   "id": "18c86402",
   "metadata": {},
   "source": [
    "With the `triangles` function we can obtain a full dictionary that lists for each node how many triangles it is part of."
   ]
  },
  {
   "cell_type": "code",
   "execution_count": 36,
   "id": "f2391cfb",
   "metadata": {},
   "outputs": [
    {
     "name": "stdout",
     "output_type": "stream",
     "text": [
      "The full output is {1: 1, 2: 1, 3: 1, 4: 1, 5: 1, 6: 1}\n",
      "Node 1 is part of 1 triangle(s)\n",
      "Node 2 is part of 1 triangle(s)\n",
      "Node 3 is part of 1 triangle(s)\n",
      "Node 4 is part of 1 triangle(s)\n",
      "Node 5 is part of 1 triangle(s)\n",
      "Node 6 is part of 1 triangle(s)\n"
     ]
    }
   ],
   "source": [
    "triangle_per_node = nx.triangles(triangle_graph)\n",
    "\n",
    "### The output is a dictionary object\n",
    "print(f\"The full output is {triangle_per_node}\")\n",
    "\n",
    "### We can use this to loop through all nodes and check the number of triangles\n",
    "for node in triangle_per_node:\n",
    "    print(f\"Node {node} is part of {triangle_per_node[node]} triangle(s)\")"
   ]
  },
  {
   "cell_type": "markdown",
   "id": "63043ed0",
   "metadata": {},
   "source": [
    "If we are only interested in a single node we can simply add its label as the second parameter."
   ]
  },
  {
   "cell_type": "markdown",
   "id": "90eccaeb",
   "metadata": {},
   "source": [
    "We can now combine the result from the `triangles` function with the degrees to compute the average clustering coefficient of each node and hence of the entire graph. However, NetworkX has a function `clustering` that does this for us. It works in a similar way as the `triangles` function."
   ]
  },
  {
   "cell_type": "code",
   "execution_count": 39,
   "id": "e56bdf51",
   "metadata": {},
   "outputs": [
    {
     "name": "stdout",
     "output_type": "stream",
     "text": [
      "The clustering coefficient of node 1 is 1.0\n",
      "The clustering coefficient of node 2 is 1.0\n",
      "The clustering coefficient of node 3 is 1.0\n",
      "The clustering coefficient of node 4 is 1.0\n",
      "The clustering coefficient of node 5 is 1.0\n",
      "The clustering coefficient of node 6 is 1.0\n",
      "Node 2 has clustering coefficient 1.0\n"
     ]
    }
   ],
   "source": [
    "clustering_per_node = nx.clustering(triangle_graph)\n",
    "\n",
    "for node in clustering_per_node.keys(): # Readability!\n",
    "    print(f\"The clustering coefficient of node {node} is {clustering_per_node[node]}\")\n",
    "\n",
    "### If we only want the clustering of a specific node we specify its label.\n",
    "clustering_node_2 = nx.clustering(triangle_graph,2)\n",
    "print(f\"Node 2 has clustering coefficient {clustering_node_2}\")"
   ]
  },
  {
   "cell_type": "markdown",
   "id": "3393a4fb",
   "metadata": {},
   "source": [
    "To compute the average clustering coefficient of the graph we use `average_clustering`."
   ]
  },
  {
   "cell_type": "code",
   "execution_count": 40,
   "id": "0bea2524",
   "metadata": {},
   "outputs": [
    {
     "name": "stdout",
     "output_type": "stream",
     "text": [
      "The average clustering coefficient of the graph is 1.0\n"
     ]
    }
   ],
   "source": [
    "cc = nx.average_clustering(triangle_graph)\n",
    "print(f\"The average clustering coefficient of the graph is {cc}\")"
   ]
  },
  {
   "cell_type": "markdown",
   "id": "525e324b",
   "metadata": {},
   "source": [
    "## Exercises"
   ]
  },
  {
   "cell_type": "markdown",
   "id": "9c8e1be4",
   "metadata": {},
   "source": [
    "**Exercise 1**\n",
    "Another way to look at the degrees is to consider the *cummulative distribution function*. This is defined for the degrees as follows: \n",
    "\n",
    "$F_n(k) = \\frac{1}{n} \\sum_{i = 1}^n 1[d_i \\le k]$. \n",
    "\n",
    "Use the method below to create a network, then compute the cummulative distribution function of the degrees and plot it.\n",
    "\n",
    "**Note:** You can use `cumfreq` from the `scipy.stats` library to compute the empirical cdfs. See https://docs.scipy.org/doc/scipy-1.10.1/reference/generated/scipy.stats.cumfreq.html for more info."
   ]
  },
  {
   "cell_type": "code",
   "execution_count": 45,
   "id": "21770ed1",
   "metadata": {},
   "outputs": [],
   "source": [
    "### Generate a graph with 100 nodes\n",
    "import matplotlib.pyplot as plt\n",
    "G1 = nx.erdos_renyi_graph(100,0.3)"
   ]
  },
  {
   "cell_type": "code",
   "execution_count": 55,
   "id": "2b57e064",
   "metadata": {},
   "outputs": [
    {
     "name": "stdout",
     "output_type": "stream",
     "text": [
      "Degree Values: [0.01, 0.02, 0.03, 0.04, 0.05, 0.06, 0.07, 0.08, 0.09, 0.1, 0.11, 0.12, 0.13, 0.14, 0.15, 0.16, 0.17, 0.18, 0.19, 0.2, 0.21, 0.22, 0.23, 0.24, 0.25, 0.26, 0.27, 0.28, 0.29, 0.3, 0.31, 0.32, 0.33, 0.34, 0.35, 0.36, 0.37, 0.38, 0.39, 0.4, 0.41]\n"
     ]
    },
    {
     "data": {
      "text/plain": [
       "<function matplotlib.pyplot.show(close=None, block=None)>"
      ]
     },
     "execution_count": 55,
     "metadata": {},
     "output_type": "execute_result"
    },
    {
     "data": {
      "image/png": "[encoded data removed]",
      "text/plain": [
       "<Figure size 640x480 with 1 Axes>"
      ]
     },
     "metadata": {},
     "output_type": "display_data"
    }
   ],
   "source": [
    "### Solution\n",
    "max_degree= max([degree for node, degree in G1.degree()])\n",
    "\n",
    "def cumulative_distribution_function(G,k):\n",
    "    # also called Empirical degree distribution, or CDF for graphs ! \n",
    "    n = len(G.nodes())\n",
    "    f = sum(list([1 for x in G.nodes() if x<=k]))/n\n",
    "    return f\n",
    "    \n",
    "degreeValues = []\n",
    "for d in range(max_degree):\n",
    "    degreeValues.append(cumulative_distribution_function(G1,d))\n",
    "print(f\"Degree Values: {degreeValues}\")\n",
    "\n",
    "plt.plot([x for x in range(1,max_degree+1)],degreeValues)\n",
    "plt.ylabel(\"Comulative Distribution Values\")\n",
    "plt.xlabel(\"Degree Number\")\n",
    "plt.show"
   ]
  },
  {
   "cell_type": "markdown",
   "id": "8231c776",
   "metadata": {},
   "source": [
    "**Exercise 2**\n",
    "\n",
    "Use the code below to generate a graph. Then find a node with $d_i > 0$ and list all nodes that are at distance 3 from that node."
   ]
  },
  {
   "cell_type": "code",
   "execution_count": 3,
   "id": "a8228d99",
   "metadata": {},
   "outputs": [],
   "source": [
    "import networkx as nx \n",
    "### Generate a graph with 100 nodes\n",
    "G2 = nx.erdos_renyi_graph(100,0.02)"
   ]
  },
  {
   "cell_type": "code",
   "execution_count": 4,
   "id": "813ac2d8",
   "metadata": {},
   "outputs": [
    {
     "name": "stdout",
     "output_type": "stream",
     "text": [
      " For node 0 the 3 distance nodes are: []\n",
      " For node 1 the 3 distance nodes are: [33, 12, 16, 48, 80, 4]\n",
      " For node 2 the 3 distance nodes are: []\n",
      " For node 3 the 3 distance nodes are: [46, 14, 29]\n",
      " For node 4 the 3 distance nodes are: [1, 49, 86]\n",
      " For node 5 the 3 distance nodes are: [71, 15, 54, 12, 16, 48, 68, 81]\n",
      " For node 7 the 3 distance nodes are: [40, 41, 68, 12, 16, 48, 80]\n",
      " For node 8 the 3 distance nodes are: [69, 83, 45, 79, 36, 74, 95]\n",
      " For node 9 the 3 distance nodes are: []\n",
      " For node 10 the 3 distance nodes are: [12, 16, 68, 80, 81, 51, 92]\n",
      " For node 11 the 3 distance nodes are: [26, 37, 22, 12, 16, 48, 68, 81]\n",
      " For node 12 the 3 distance nodes are: [71, 66, 15, 37, 19, 72, 95, 10, 64, 1, 5, 11, 7, 21, 39, 94, 36, 65]\n",
      " For node 13 the 3 distance nodes are: [24, 42, 87, 93, 65]\n",
      " For node 14 the 3 distance nodes are: [3, 53, 35]\n",
      " For node 15 the 3 distance nodes are: [5, 49, 12, 24, 70, 99]\n",
      " For node 16 the 3 distance nodes are: [18, 45, 77, 26, 74, 10, 64, 1, 5, 11, 7, 40, 36, 65]\n",
      " For node 17 the 3 distance nodes are: [88, 35]\n",
      " For node 18 the 3 distance nodes are: [16, 61, 79, 93, 88]\n",
      " For node 19 the 3 distance nodes are: [12, 48, 68, 80, 81, 51, 86, 98, 61, 79, 93, 88]\n",
      " For node 21 the 3 distance nodes are: [43, 92, 12, 30, 98, 47, 91]\n",
      " For node 22 the 3 distance nodes are: [11, 49, 24, 52]\n",
      " For node 23 the 3 distance nodes are: []\n",
      " For node 24 the 3 distance nodes are: [49, 74, 66, 15, 37, 22, 13]\n",
      " For node 25 the 3 distance nodes are: []\n",
      " For node 26 the 3 distance nodes are: [16, 48, 68, 80, 81, 30, 38, 98, 42, 52, 11, 99]\n",
      " For node 27 the 3 distance nodes are: []\n",
      " For node 29 the 3 distance nodes are: [3, 53]\n",
      " For node 30 the 3 distance nodes are: [26, 49, 21, 39, 94, 36, 65, 95]\n",
      " For node 33 the 3 distance nodes are: [45, 79, 36, 74, 95, 62, 89, 94, 1]\n",
      " For node 34 the 3 distance nodes are: []\n",
      " For node 35 the 3 distance nodes are: [14, 17]\n",
      " For node 36 the 3 distance nodes are: [33, 57, 38, 91, 8, 61, 12, 30, 16, 86]\n",
      " For node 37 the 3 distance nodes are: [11, 12, 24, 70]\n",
      " For node 38 the 3 distance nodes are: [57, 64, 26, 49, 36, 65, 95, 62, 69, 89]\n",
      " For node 39 the 3 distance nodes are: [12, 30, 98, 47, 91, 89, 48, 51]\n",
      " For node 40 the 3 distance nodes are: [7, 73, 16, 98]\n",
      " For node 41 the 3 distance nodes are: [49, 7, 65, 69]\n",
      " For node 42 the 3 distance nodes are: [80, 26, 13]\n",
      " For node 43 the 3 distance nodes are: [21, 74, 94, 57, 64]\n",
      " For node 44 the 3 distance nodes are: [78]\n",
      " For node 45 the 3 distance nodes are: [8, 33, 98, 52, 63, 16, 88]\n",
      " For node 46 the 3 distance nodes are: [3, 56, 87]\n",
      " For node 47 the 3 distance nodes are: [65, 74, 95, 83, 92, 21, 39]\n",
      " For node 48 the 3 distance nodes are: [26, 74, 19, 72, 95, 1, 5, 11, 7, 39, 57]\n",
      " For node 49 the 3 distance nodes are: [24, 70, 78, 30, 38, 98, 87, 51, 86, 92, 41, 22, 15, 54, 4]\n",
      " For node 51 the 3 distance nodes are: [10, 49, 39, 57, 19, 95]\n",
      " For node 52 the 3 distance nodes are: [55, 45, 61, 26, 22]\n",
      " For node 53 the 3 distance nodes are: [14, 29, 77]\n",
      " For node 54 the 3 distance nodes are: [78, 5, 49]\n",
      " For node 55 the 3 distance nodes are: [52, 79]\n",
      " For node 56 the 3 distance nodes are: [46]\n",
      " For node 57 the 3 distance nodes are: [36, 62, 69, 94, 38, 43, 48, 51]\n",
      " For node 60 the 3 distance nodes are: []\n",
      " For node 61 the 3 distance nodes are: [18, 19, 77, 69, 83, 36, 74, 95, 52, 63]\n",
      " For node 62 the 3 distance nodes are: [98, 33, 57, 38, 91]\n",
      " For node 63 the 3 distance nodes are: [71, 45, 61]\n",
      " For node 64 the 3 distance nodes are: [12, 16, 68, 80, 81, 38, 43, 89]\n",
      " For node 65 the 3 distance nodes are: [47, 41, 87, 93, 13, 12, 30, 38, 16, 86]\n",
      " For node 66 the 3 distance nodes are: [12, 24, 78]\n",
      " For node 68 the 3 distance nodes are: [83, 7, 26, 74, 19, 72, 95, 10, 64, 5, 11]\n",
      " For node 69 the 3 distance nodes are: [8, 61, 98, 41, 57, 38, 91]\n",
      " For node 70 the 3 distance nodes are: [49, 74, 71, 15, 37]\n",
      " For node 71 the 3 distance nodes are: [12, 70, 78, 5, 63, 79]\n",
      " For node 72 the 3 distance nodes are: [87, 12, 48, 68, 80, 81, 86, 98, 92]\n",
      " For node 73 the 3 distance nodes are: [81, 40]\n",
      " For node 74 the 3 distance nodes are: [24, 70, 78, 16, 48, 68, 80, 81, 43, 92, 47, 91, 8, 33, 61, 86]\n",
      " For node 75 the 3 distance nodes are: [81, 95]\n",
      " For node 76 the 3 distance nodes are: []\n",
      " For node 77 the 3 distance nodes are: [16, 61, 79, 93, 53]\n",
      " For node 78 the 3 distance nodes are: [54, 80, 49, 74, 71, 66, 44]\n",
      " For node 79 the 3 distance nodes are: [71, 55, 18, 19, 77, 8, 33, 98]\n",
      " For node 80 the 3 distance nodes are: [42, 78, 26, 74, 19, 72, 95, 10, 64, 1, 7]\n",
      " For node 81 the 3 distance nodes are: [83, 73, 75, 26, 74, 19, 72, 95, 10, 64, 5, 11]\n",
      " For node 83 the 3 distance nodes are: [8, 61, 98, 47, 68, 81]\n",
      " For node 86 the 3 distance nodes are: [4, 19, 49, 72, 36, 65, 74]\n",
      " For node 87 the 3 distance nodes are: [49, 72, 95, 65, 13, 46]\n",
      " For node 88 the 3 distance nodes are: [17, 18, 19, 45]\n",
      " For node 89 the 3 distance nodes are: [98, 33, 38, 91, 39, 64]\n",
      " For node 91 the 3 distance nodes are: [21, 39, 74, 36, 62, 69, 89]\n",
      " For node 92 the 3 distance nodes are: [21, 74, 94, 47, 10, 49, 72]\n",
      " For node 93 the 3 distance nodes are: [65, 13, 18, 19, 77]\n",
      " For node 94 the 3 distance nodes are: [43, 92, 12, 30, 98, 33, 57]\n",
      " For node 95 the 3 distance nodes are: [87, 12, 48, 68, 80, 81, 51, 75, 47, 8, 33, 61, 30, 38]\n",
      " For node 98 the 3 distance nodes are: [62, 69, 89, 94, 83, 45, 79, 26, 49, 21, 39, 19, 72, 40]\n",
      " For node 99 the 3 distance nodes are: [15, 26]\n"
     ]
    }
   ],
   "source": [
    "### Solution\n",
    "usableNodes = list([node for node, degree in G2.degree() if degree>0])\n",
    "for node in usableNodes:\n",
    "    distancesFromNode = nx.shortest_path_length(G2,source=node)\n",
    "    threeDistanceNodes = list([distanceKey for distanceKey,distanceValue in distancesFromNode.items() if distanceValue==3])\n",
    "    print(f\" For node {node} the 3 distance nodes are: {threeDistanceNodes}\")\n"
   ]
  },
  {
   "cell_type": "markdown",
   "id": "66235c10",
   "metadata": {},
   "source": [
    "**Exercise 3** Check if the graph is connected. If not, list how many components it has and compute the size of the largest and smallest component. For this last part the function `connected_components` could be helpful."
   ]
  },
  {
   "cell_type": "code",
   "execution_count": 9,
   "id": "6e34cb55",
   "metadata": {},
   "outputs": [
    {
     "name": "stdout",
     "output_type": "stream",
     "text": [
      "Is the graph connected? False\n",
      "The graph as 20 connected components\n",
      "Biggest connected component is of size: 76\n",
      "Smallest connected component is of size: 1\n"
     ]
    }
   ],
   "source": [
    "### Solution\n",
    "print(f\"Is the graph connected? {nx.is_connected(G2)}\")\n",
    "print(f\"The graph as {nx.number_connected_components(G2)} connected components\")\n",
    "connected_comps = nx.connected_components(G2)\n",
    "maxx,minn = 0,100000\n",
    "for connected_comp in connected_comps:\n",
    "    n_nodes = len(connected_comp)\n",
    "    maxx,minn = max(maxx,n_nodes),min(minn,n_nodes)\n",
    "print(f\"Biggest connected component is of size: {maxx}\")\n",
    "print(f\"Smallest connected component is of size: {minn}\")\n"
   ]
  },
  {
   "cell_type": "markdown",
   "id": "5b6813c9",
   "metadata": {},
   "source": [
    "**Exercise 4** Use the graph from the previous exercise and find the node with the highest clustering coefficient."
   ]
  },
  {
   "cell_type": "code",
   "execution_count": 17,
   "id": "166d001e",
   "metadata": {},
   "outputs": [
    {
     "name": "stdout",
     "output_type": "stream",
     "text": [
      "[(0, 0), (1, 0), (2, 0), (3, 0), (4, 0), (5, 0), (6, 0), (7, 0), (8, 0), (9, 0), (10, 0), (11, 0), (12, 0), (13, 0), (14, 0), (15, 0), (16, 0), (17, 0), (18, 0), (19, 0), (20, 0), (21, 0), (22, 0), (23, 0), (24, 0), (25, 0), (26, 0), (27, 0), (28, 0), (29, 0), (30, 0), (31, 0), (32, 0), (33, 0), (34, 0), (35, 0), (36, 0), (37, 0), (38, 0), (39, 0), (40, 0), (41, 0), (42, 0), (43, 0), (44, 0), (45, 0.16666666666666666), (46, 0), (47, 0), (48, 0), (49, 0), (50, 0), (51, 0), (52, 0), (53, 0), (54, 0), (55, 0), (56, 0), (57, 0), (58, 0), (59, 0), (60, 0), (61, 0.3333333333333333), (62, 0), (63, 0), (64, 0), (65, 0), (66, 0), (67, 0), (68, 0), (69, 0), (70, 0), (71, 0), (72, 0), (73, 0), (74, 0), (75, 0), (76, 0), (77, 0), (78, 0), (79, 0.3333333333333333), (80, 0), (81, 0), (82, 0), (83, 0), (84, 0), (85, 0), (86, 0), (87, 0), (88, 0), (89, 0), (90, 0), (91, 0), (92, 0), (93, 0), (94, 0), (95, 0), (96, 0), (97, 0), (98, 0), (99, 0)]\n",
      "Highest Clustering per node: (79, 0.3333333333333333)\n"
     ]
    }
   ],
   "source": [
    "### Solution\n",
    "clustering_per_node = list(nx.clustering(G2).items())\n",
    "print(clustering_per_node)\n",
    "maxx = sorted(clustering_per_node,key=lambda x: x[1])[-1]\n",
    "print(f\"Highest Clustering per node: {maxx}\")\n"
   ]
  },
  {
   "cell_type": "markdown",
   "id": "deb4188c",
   "metadata": {},
   "source": [
    "**Exercise 5** Another way of looking at the clustering of the graph is via the *global clustering coefficient*. This is defined as \n",
    "$$C(G) = \\frac{3\\Delta(G)}{\\wedge(G)},$$\n",
    "where $\\Delta(G)$ is the total number of triangles in $G$ and $\\wedge(G)$ is the total number of wegdes (paths of lenght $2$) in $G$.\n",
    "\n",
    "Compute the global clustering coefficient of the graph from the previous exercise and compare it to the average clustering coefficient."
   ]
  },
  {
   "cell_type": "code",
   "execution_count": 24,
   "id": "38d1fc23",
   "metadata": {},
   "outputs": [
    {
     "name": "stdout",
     "output_type": "stream",
     "text": [
      "1.0\n",
      "The clustering coefficient is: 0.0092\n"
     ]
    }
   ],
   "source": [
    "### Solution\n",
    "def findPaths(G,u,n):\n",
    "    if n==0:\n",
    "        return [[u]]\n",
    "    paths = [[u]+path for neighbor in G.neighbors(u) for path in findPaths(G,neighbor,n-1) if u not in path]\n",
    "    return paths\n",
    "\n",
    "allpaths = []\n",
    "for node in G2:\n",
    "    allpaths.extend(findPaths(G2,node,2))\n",
    "\n",
    "n_triangles = sum(nx.triangles(G2).values())/3\n",
    "print(n_triangles)\n",
    "number_of_wedges = len(allpaths)\n",
    "\n",
    "clustering_coefficient= (3*n_triangles)/number_of_wedges\n",
    "print(f\"The clustering coefficient is: {clustering_coefficient:.3}\")"
   ]
  }
 ],
 "metadata": {
  "kernelspec": {
   "display_name": "Python 3 (ipykernel)",
   "language": "python",
   "name": "python3"
  },
  "language_info": {
   "codemirror_mode": {
    "name": "ipython",
    "version": 3
   },
   "file_extension": ".py",
   "mimetype": "text/x-python",
   "name": "python",
   "nbconvert_exporter": "python",
   "pygments_lexer": "ipython3",
   "version": "3.10.7"
  }
 },
 "nbformat": 4,
 "nbformat_minor": 5
}
